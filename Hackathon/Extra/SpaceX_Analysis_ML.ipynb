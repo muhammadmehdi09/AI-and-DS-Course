{
 "cells": [
  {
   "cell_type": "code",
   "execution_count": null,
   "id": "1ab88a66",
   "metadata": {},
   "outputs": [],
   "source": [
    "import pandas as pd\n",
    "import numpy as np\n",
    "import matplotlib.pyplot as plt\n",
    "import seaborn as sns\n",
    "import requests\n",
    "from sklearn.model_selection import train_test_split, cross_val_score\n",
    "from sklearn.ensemble import RandomForestClassifier\n",
    "from sklearn.metrics import classification_report, accuracy_score, confusion_matrix\n"
   ]
  },
  {
   "cell_type": "code",
   "execution_count": null,
   "id": "6dd34cc0",
   "metadata": {},
   "outputs": [],
   "source": [
    "# Fetch SpaceX launch data from the SpaceX API\n",
    "url = \"https://api.spacexdata.com/v4/launches\"\n",
    "response = requests.get(url)\n",
    "data = response.json()\n",
    "\n",
    "# Normalize data into a DataFrame\n",
    "df = pd.json_normalize(data)\n",
    "df.head()\n"
   ]
  },
  {
   "cell_type": "code",
   "execution_count": null,
   "id": "1cef823f",
   "metadata": {},
   "outputs": [],
   "source": [
    "# Select relevant features\n",
    "columns_of_interest = [\n",
    "    'name', 'date_utc', 'success', 'rocket', 'payloads', 'launchpad', \n",
    "    'cores', 'crew', 'flight_number'\n",
    "]\n",
    "df = df[columns_of_interest]\n",
    "\n",
    "# Drop rows with missing success values\n",
    "df = df[df['success'].notna()]\n",
    "\n",
    "# Convert launch date\n",
    "df['date'] = pd.to_datetime(df['date_utc'])\n",
    "df['year'] = df['date'].dt.year\n",
    "df['month'] = df['date'].dt.month\n",
    "\n",
    "# Encode success as binary\n",
    "df['success'] = df['success'].astype(int)\n",
    "\n",
    "# Simplify by using only the year, month, and flight number for now\n",
    "df_model = df[['year', 'month', 'flight_number', 'success']]\n",
    "df_model.head()\n"
   ]
  },
  {
   "cell_type": "code",
   "execution_count": null,
   "id": "52344d29",
   "metadata": {},
   "outputs": [],
   "source": [
    "# EDA: Visualizing correlations\n",
    "sns.heatmap(df_model.corr(), annot=True, cmap='coolwarm')\n",
    "plt.title('Correlation Matrix')\n",
    "plt.show()\n"
   ]
  },
  {
   "cell_type": "code",
   "execution_count": null,
   "id": "0e4ca06f",
   "metadata": {},
   "outputs": [],
   "source": [
    "# Split into features and target\n",
    "X = df_model.drop('success', axis=1)\n",
    "y = df_model['success']\n",
    "\n",
    "# Train/test split\n",
    "X_train, X_test, y_train, y_test = train_test_split(X, y, test_size=0.2, random_state=42)\n",
    "\n",
    "# Random Forest Classifier\n",
    "clf = RandomForestClassifier(n_estimators=100, random_state=42)\n",
    "clf.fit(X_train, y_train)\n",
    "\n",
    "# Predictions\n",
    "y_pred = clf.predict(X_test)\n",
    "\n",
    "# Evaluation\n",
    "print(\"Accuracy:\", accuracy_score(y_test, y_pred))\n",
    "print(\"Confusion Matrix:\\n\", confusion_matrix(y_test, y_pred))\n",
    "print(\"Classification Report:\\n\", classification_report(y_test, y_pred))\n"
   ]
  },
  {
   "cell_type": "code",
   "execution_count": null,
   "id": "54132211",
   "metadata": {},
   "outputs": [],
   "source": []
  }
 ],
 "metadata": {
  "kernelspec": {
   "display_name": "Python 3 (ipykernel)",
   "language": "python",
   "name": "python3"
  },
  "language_info": {
   "codemirror_mode": {
    "name": "ipython",
    "version": 3
   },
   "file_extension": ".py",
   "mimetype": "text/x-python",
   "name": "python",
   "nbconvert_exporter": "python",
   "pygments_lexer": "ipython3",
   "version": "3.13.2"
  }
 },
 "nbformat": 4,
 "nbformat_minor": 5
}

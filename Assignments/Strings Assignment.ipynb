{
 "cells": [
  {
   "cell_type": "markdown",
   "id": "8665b486-3962-452e-84eb-4f98739158b4",
   "metadata": {},
   "source": [
    "### 1. Write a program that accepts a string from user. Your program should count and display number of vowels in that string"
   ]
  },
  {
   "cell_type": "code",
   "execution_count": 7,
   "id": "370242e9-e6b2-4894-b61f-c644b5768ac4",
   "metadata": {},
   "outputs": [
    {
     "name": "stdin",
     "output_type": "stream",
     "text": [
      "Enter a string of text MehdI\n"
     ]
    },
    {
     "name": "stdout",
     "output_type": "stream",
     "text": [
      "2\n"
     ]
    }
   ],
   "source": [
    "string = input(\"Enter a string of text\")\n",
    "vowelCount = 0\n",
    "\n",
    "for i in range(len(string)):\n",
    "    vowels = [\"a\", \"e\", \"i\", \"o\", \"u\", \"A\", \"E\", \"I\", \"O\", \"U\"]\n",
    "    \n",
    "    if string[i] in vowels:\n",
    "        vowelCount += 1\n",
    "        \n",
    "print(vowelCount)"
   ]
  },
  {
   "cell_type": "markdown",
   "id": "8aede215-9235-48f9-a3de-d1097520cbf5",
   "metadata": {},
   "source": [
    "### 2. Write a program that reads a string from keyboard and display:\n",
    "#### * The number of uppercase letters in the string\n",
    "#### * The number of lowercase letters in the string\n",
    "#### * The number of digits in the string\n",
    "#### * The number of whitespace characters in the string"
   ]
  },
  {
   "cell_type": "code",
   "execution_count": 2,
   "id": "6259142a-f478-43ea-a548-a658e1e1f07c",
   "metadata": {},
   "outputs": [
    {
     "name": "stdin",
     "output_type": "stream",
     "text": [
      "Enter a string of text My password is M.m987654321\n"
     ]
    },
    {
     "name": "stdout",
     "output_type": "stream",
     "text": [
      " \n",
      "           2 letter in upper case \n",
      "           12 letter in lower case in the string\n",
      "           9 letter in digits in the string\n",
      "           3 letter in whitespace charachters in the string   \n",
      "           \n"
     ]
    }
   ],
   "source": [
    "string = input(\"Enter a string of text\")\n",
    "upper = 0\n",
    "lower = 0\n",
    "digits = 0\n",
    "whitespace = 0\n",
    "for i in range(len(string) - 1, -1, -1):\n",
    "    ascii = ord(string[i])\n",
    "    if ascii > 64 and ascii < 91:\n",
    "        upper += 1\n",
    "        \n",
    "    elif ascii > 96 and ascii < 123:\n",
    "        lower += 1\n",
    "        \n",
    "    elif ascii > 47 and ascii < 58:\n",
    "        digits += 1\n",
    "\n",
    "    elif ascii == 10 or ascii == 32:\n",
    "        whitespace += 1\n",
    "    \n",
    "print(f\"\"\" \n",
    "           {upper} letter in upper case \n",
    "           {lower} letter in lower case in the string\n",
    "           {digits} letter in digits in the string\n",
    "           {whitespace} letter in whitespace charachters in the string   \n",
    "           \"\"\")"
   ]
  },
  {
   "cell_type": "markdown",
   "id": "c00d2528-b33a-4186-a8bd-4b7b84cb4cf7",
   "metadata": {},
   "source": [
    "### 3. Write a Python program that inputs a string and and displays a new string where the first and last characters have been exchanged"
   ]
  },
  {
   "cell_type": "code",
   "execution_count": 7,
   "id": "6e1a6b94-5edb-43bc-b111-3e1e8638edf2",
   "metadata": {},
   "outputs": [
    {
     "name": "stdin",
     "output_type": "stream",
     "text": [
      "Enter a string of text Hello\n"
     ]
    },
    {
     "name": "stdout",
     "output_type": "stream",
     "text": [
      "oellH\n"
     ]
    }
   ],
   "source": [
    "string = input(\"Enter a string of text\")\n",
    "newString = \"\"\n",
    "letter = string[0]\n",
    "\n",
    "for i in range(len(string)):\n",
    "    if i == 0:\n",
    "        newString = string[len(string) - 1]\n",
    "        \n",
    "    elif i == len(string) - 1:\n",
    "        newString += letter\n",
    "\n",
    "    else:\n",
    "        newString += string[i]\n",
    "        \n",
    "print(newString)"
   ]
  },
  {
   "cell_type": "markdown",
   "id": "43f78103-aca2-4e1c-97b4-067ff5aa928b",
   "metadata": {},
   "source": [
    "### 4. Write a Python program that reverses a string and displays it"
   ]
  },
  {
   "cell_type": "code",
   "execution_count": 9,
   "id": "2641fc56-233c-4690-8657-28162e8b1656",
   "metadata": {},
   "outputs": [
    {
     "name": "stdin",
     "output_type": "stream",
     "text": [
      "Enter a string of text qg9d32tfig;ebcouhf\n"
     ]
    },
    {
     "name": "stdout",
     "output_type": "stream",
     "text": [
      "fhuocbe;gift23d9gq\n"
     ]
    }
   ],
   "source": [
    "string = input(\"Enter a string of text\")\n",
    "newString = \"\"\n",
    "\n",
    "for i in range(len(string) - 1, -1, -1):\n",
    "    newString += string[i]\n",
    "    \n",
    "print(newString)"
   ]
  },
  {
   "cell_type": "markdown",
   "id": "7c1a8580-3ebf-43fe-8ad4-dd202bebd220",
   "metadata": {},
   "source": [
    "### 5. Write a Python program that accepts a string from user. Your program should create a new string by shifting one position to left"
   ]
  },
  {
   "cell_type": "code",
   "execution_count": 16,
   "id": "f3953783-38b0-4e7e-bacd-a4291613df3f",
   "metadata": {},
   "outputs": [
    {
     "name": "stdin",
     "output_type": "stream",
     "text": [
      "Enter a string of text Exam\n"
     ]
    },
    {
     "name": "stdout",
     "output_type": "stream",
     "text": [
      "xamE\n"
     ]
    }
   ],
   "source": [
    "string = input(\"Enter a string of text\")\n",
    "newString = \"\"\n",
    "\n",
    "for i in range(len(string)):\n",
    "        \n",
    "    if i == len(string) - 1:\n",
    "        newString += string[0]\n",
    "\n",
    "    else:\n",
    "        newString = newString + string[i + 1]\n",
    "        \n",
    "print(newString)"
   ]
  },
  {
   "cell_type": "markdown",
   "id": "46db4284-d737-40c6-9ff9-4559006bc578",
   "metadata": {},
   "source": [
    "### 6. Write a program that asks the user to input his name and print its initials"
   ]
  },
  {
   "cell_type": "code",
   "execution_count": 26,
   "id": "ae38f383-81b2-4249-a5a7-f74aff5f0d75",
   "metadata": {},
   "outputs": [
    {
     "name": "stdin",
     "output_type": "stream",
     "text": [
      "Enter a string of text Ajay Kumar Garg\n"
     ]
    },
    {
     "name": "stdout",
     "output_type": "stream",
     "text": [
      "A. K. G. \n"
     ]
    }
   ],
   "source": [
    "string = input(\"Enter a string of text\")\n",
    "newString = \"\"\n",
    "letter = string[0]\n",
    "\n",
    "for i in range(len(string)):\n",
    "    if i == 0:\n",
    "        newString = string[0].upper() + \". \"\n",
    "        \n",
    "    elif string[i] == \" \":\n",
    "        newString += string[i + 1].upper() + \". \"\n",
    "        \n",
    "print(newString)"
   ]
  },
  {
   "cell_type": "markdown",
   "id": "8856874a-520a-492d-be04-7e79c599d572",
   "metadata": {},
   "source": [
    "### 7. Write a programs that determines whether the string is a palindrome"
   ]
  },
  {
   "cell_type": "code",
   "execution_count": 29,
   "id": "a7f66b2f-5a82-4195-bea2-82f4762a2646",
   "metadata": {},
   "outputs": [
    {
     "name": "stdin",
     "output_type": "stream",
     "text": [
      "Enter a string of text ewew\n"
     ]
    },
    {
     "name": "stdout",
     "output_type": "stream",
     "text": [
      "ewew is not a palindrome\n"
     ]
    }
   ],
   "source": [
    "string = input(\"Enter a string of text\")\n",
    "newString = \"\"\n",
    "\n",
    "for i in range(len(string) - 1, -1, -1):\n",
    "    newString += string[i]\n",
    "\n",
    "if newString == string:\n",
    "    print(f\"{string} is a palindrome\")\n",
    "    \n",
    "else:\n",
    "    print(f\"{string} is not a palindrome\")"
   ]
  },
  {
   "cell_type": "markdown",
   "id": "8f05843f-4fa1-4c3e-8714-b1eb1c7dd1c5",
   "metadata": {},
   "source": [
    "### 8. Write a program that display following output:\n",
    "#### *SHIFT\n",
    "#### *HIFTS\n",
    "#### *IFTSH\n",
    "#### *FTSHI\n",
    "#### *TSHIF\n",
    "#### *SHIFT"
   ]
  },
  {
   "cell_type": "code",
   "execution_count": 33,
   "id": "896ce12f-63f6-4180-9aff-e91bcc597d4c",
   "metadata": {},
   "outputs": [
    {
     "name": "stdin",
     "output_type": "stream",
     "text": [
      "Enter a string of text SHIFT\n"
     ]
    },
    {
     "name": "stdout",
     "output_type": "stream",
     "text": [
      "SHIFT\n",
      "HIFTS\n",
      "IFTSH\n",
      "FTSHI\n",
      "TSHIF\n",
      "SHIFT\n"
     ]
    }
   ],
   "source": [
    "string = input(\"Enter a string of text\")\n",
    "print(string)\n",
    "\n",
    "for i in range(len(string)):\n",
    "    newString = \"\"\n",
    "    \n",
    "    for i in range(len(string)):\n",
    "            \n",
    "        if i == len(string) - 1:\n",
    "            newString += string[0]\n",
    "    \n",
    "        else:\n",
    "            newString = newString + string[i + 1]\n",
    "            \n",
    "    string = newString  \n",
    "    print(newString)"
   ]
  },
  {
   "cell_type": "markdown",
   "id": "38deec1b-1f54-4de8-a392-160c815b6cf3",
   "metadata": {},
   "source": [
    "### 9. Write a program in python that accepts a string to setup a passwords that meet the following requirements:\n",
    "\n",
    "#### *The password must be at least eight characters long\n",
    "#### *It must contain at least one uppercase letter\n",
    "#### *It must contain at least one lowercase letter\n",
    "#### *It must contain at least one numeric digit"
   ]
  },
  {
   "cell_type": "code",
   "execution_count": 42,
   "id": "19ecf9a1-ed43-486d-9b2d-76cc08d7f038",
   "metadata": {},
   "outputs": [
    {
     "name": "stdin",
     "output_type": "stream",
     "text": [
      "Enter your password aaAAAA1234\n"
     ]
    },
    {
     "name": "stdout",
     "output_type": "stream",
     "text": [
      "The password 'aaAAAA1234' is perfect\n"
     ]
    }
   ],
   "source": [
    "password = input(\"Enter your password\")\n",
    "upper = 0\n",
    "lower = 0\n",
    "digits = 0\n",
    "\n",
    "for i in range(len(password) - 1, -1, -1):\n",
    "    ascii = ord(password[i])\n",
    "    if ascii > 64 and ascii < 91:\n",
    "        upper += 1\n",
    "        \n",
    "    elif ascii > 96 and ascii < 123:\n",
    "        lower += 1\n",
    "        \n",
    "    elif ascii > 47 and ascii < 58:\n",
    "        digits += 1\n",
    "\n",
    "if len(password) < 8:\n",
    "    print(\"The password must be at least eight characters long\")\n",
    "    \n",
    "elif upper < 1:\n",
    "    print(\"It must contain at least one uppercase letter\")\n",
    "    \n",
    "elif lower < 1:\n",
    "    print(\"It must contain at least one lowercase letter\")\n",
    "    \n",
    "elif digits < 1:\n",
    "    print(\"It must contain at least one numeric digit\")\n",
    "\n",
    "else:\n",
    "    print(f\"The password '{password}' is perfect\")"
   ]
  }
 ],
 "metadata": {
  "kernelspec": {
   "display_name": "Python 3 (ipykernel)",
   "language": "python",
   "name": "python3"
  },
  "language_info": {
   "codemirror_mode": {
    "name": "ipython",
    "version": 3
   },
   "file_extension": ".py",
   "mimetype": "text/x-python",
   "name": "python",
   "nbconvert_exporter": "python",
   "pygments_lexer": "ipython3",
   "version": "3.12.7"
  }
 },
 "nbformat": 4,
 "nbformat_minor": 5
}

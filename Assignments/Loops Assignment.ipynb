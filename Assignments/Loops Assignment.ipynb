{
 "cells": [
  {
   "cell_type": "markdown",
   "id": "dfb908b9-cd5d-4ff0-91fe-e4abb327c7dc",
   "metadata": {},
   "source": [
    "### 1. Write a Python program to print the numbers from 1 to 10 using a for loop"
   ]
  },
  {
   "cell_type": "code",
   "execution_count": 1,
   "id": "97ee872e-778f-4626-ade8-0b3ca5a47576",
   "metadata": {},
   "outputs": [
    {
     "name": "stdout",
     "output_type": "stream",
     "text": [
      "1\n",
      "2\n",
      "3\n",
      "4\n",
      "5\n",
      "6\n",
      "7\n",
      "8\n",
      "9\n",
      "10\n"
     ]
    }
   ],
   "source": [
    "for i in range(10):\n",
    "    print(i + 1)"
   ]
  },
  {
   "cell_type": "markdown",
   "id": "31175372-2bdc-49de-91ba-b806ea205cba",
   "metadata": {},
   "source": [
    "### 2. Write a Python program to print the numbers from 20 to 1 using a while loop"
   ]
  },
  {
   "cell_type": "code",
   "execution_count": 2,
   "id": "447531b9-d3e2-4243-b6eb-66d234531809",
   "metadata": {},
   "outputs": [
    {
     "name": "stdout",
     "output_type": "stream",
     "text": [
      "20\n",
      "19\n",
      "18\n",
      "17\n",
      "16\n",
      "15\n",
      "14\n",
      "13\n",
      "12\n",
      "11\n",
      "10\n",
      "9\n",
      "8\n",
      "7\n",
      "6\n",
      "5\n",
      "4\n",
      "3\n",
      "2\n",
      "1\n"
     ]
    }
   ],
   "source": [
    "i = 20\n",
    "\n",
    "while i != 0:\n",
    "    print(i)\n",
    "    i = i - 1"
   ]
  },
  {
   "cell_type": "markdown",
   "id": "ebf7a384-51a9-4454-954c-221872fc36e1",
   "metadata": {},
   "source": [
    "### 3. Write a program to print even numbers from 1 to 10"
   ]
  },
  {
   "cell_type": "code",
   "execution_count": 3,
   "id": "09985b6b-ad0d-421e-9f6a-7e34ad8f40ca",
   "metadata": {},
   "outputs": [
    {
     "name": "stdout",
     "output_type": "stream",
     "text": [
      "2\n",
      "4\n",
      "6\n",
      "8\n",
      "10\n"
     ]
    }
   ],
   "source": [
    "i = 2\n",
    "\n",
    "while i < 11:\n",
    "    print(i)\n",
    "    i = i + 2"
   ]
  },
  {
   "cell_type": "markdown",
   "id": "1a65a399-c1df-465d-be94-d5c936ebf572",
   "metadata": {},
   "source": [
    "### 4. Write a program that prompts the user to enter a number n and prints all the numbers from 1 to n"
   ]
  },
  {
   "cell_type": "code",
   "execution_count": 4,
   "id": "d292cc08-2926-4faa-b9d1-894d0cf7b1ae",
   "metadata": {},
   "outputs": [
    {
     "name": "stdin",
     "output_type": "stream",
     "text": [
      "Enter a random integer 5\n"
     ]
    },
    {
     "name": "stdout",
     "output_type": "stream",
     "text": [
      "1\n",
      "2\n",
      "3\n",
      "4\n",
      "5\n"
     ]
    }
   ],
   "source": [
    "n = int(input(\"Enter a random integer\"))\n",
    "\n",
    "for i in range(n):\n",
    "    print(i + 1)"
   ]
  },
  {
   "cell_type": "markdown",
   "id": "4df4bd14-6b28-422b-8b2d-36579977cd6f",
   "metadata": {},
   "source": [
    "### 5. Write a program that prompts the user to enter a number n, and then prints all the odd numbers between 1 and n"
   ]
  },
  {
   "cell_type": "code",
   "execution_count": 5,
   "id": "39ed7105-0cf0-465f-809f-cc6f50848c58",
   "metadata": {},
   "outputs": [
    {
     "name": "stdin",
     "output_type": "stream",
     "text": [
      "Enter a random integer 5\n"
     ]
    },
    {
     "name": "stdout",
     "output_type": "stream",
     "text": [
      "1\n",
      "3\n",
      "5\n"
     ]
    }
   ],
   "source": [
    "n = int(input(\"Enter a random integer\"))\n",
    "i = 1\n",
    "\n",
    "while i < n + 1:\n",
    "    print(i)\n",
    "    i = i + 2"
   ]
  },
  {
   "cell_type": "markdown",
   "id": "5535cf00-c57b-40ea-ad98-4a8beaddc8f3",
   "metadata": {},
   "source": [
    "### 6. Write a program that prints 'Happy Birthday!' five times on screen"
   ]
  },
  {
   "cell_type": "code",
   "execution_count": 6,
   "id": "1d8020de-e8fc-492d-805a-a4fea9069750",
   "metadata": {},
   "outputs": [
    {
     "name": "stdout",
     "output_type": "stream",
     "text": [
      "Happy Birthday!\n",
      "Happy Birthday!\n",
      "Happy Birthday!\n",
      "Happy Birthday!\n",
      "Happy Birthday!\n"
     ]
    }
   ],
   "source": [
    "for i in range(5):\n",
    "    print('Happy Birthday!')"
   ]
  },
  {
   "cell_type": "markdown",
   "id": "1f6d24ce-bff0-4207-9df3-633dca3301fb",
   "metadata": {},
   "source": [
    "### 7. Write a program that takes a number n as input from the user and generates the first n terms of the series formed by squaring the natural numbers"
   ]
  },
  {
   "cell_type": "code",
   "execution_count": 8,
   "id": "4756ab4e-4716-4da9-ab16-d84cfbc06bbf",
   "metadata": {},
   "outputs": [
    {
     "name": "stdin",
     "output_type": "stream",
     "text": [
      "Enter a random integer 5\n"
     ]
    },
    {
     "name": "stdout",
     "output_type": "stream",
     "text": [
      "1\n",
      "4\n",
      "9\n",
      "16\n",
      "25\n"
     ]
    }
   ],
   "source": [
    "n = int(input(\"Enter a random integer\"))\n",
    "i = 1\n",
    "\n",
    "while i < n + 1:\n",
    "    print(i**2)\n",
    "    i = i + 1"
   ]
  },
  {
   "cell_type": "markdown",
   "id": "5a2a254d-88f8-4006-9e41-5b5db549c468",
   "metadata": {},
   "source": [
    "###  8. Write a program that prompts the user to input a number and prints its multiplication table"
   ]
  },
  {
   "cell_type": "code",
   "execution_count": 5,
   "id": "26cd448f-8cf7-45f9-a0ac-4fa0fa029505",
   "metadata": {},
   "outputs": [
    {
     "name": "stdin",
     "output_type": "stream",
     "text": [
      "Enter a random integer 12\n"
     ]
    },
    {
     "name": "stdout",
     "output_type": "stream",
     "text": [
      "12\n",
      "24\n",
      "36\n",
      "48\n",
      "60\n",
      "72\n",
      "84\n",
      "96\n",
      "108\n",
      "120\n",
      "132\n",
      "144\n"
     ]
    }
   ],
   "source": [
    "n = int(input(\"Enter a random integer\"))\n",
    "\n",
    "for i in range(12):\n",
    "    print(f\"n * (i + 1)\")"
   ]
  },
  {
   "cell_type": "markdown",
   "id": "cbdd67da-d8ad-4615-bd98-9b7de838bdb6",
   "metadata": {},
   "source": [
    "### 9. Write a Python program to print the first 8 terms of an arithmetic progression starting with 3 and having a common difference of 4."
   ]
  },
  {
   "cell_type": "code",
   "execution_count": 7,
   "id": "bcb8e4fd-d70b-4c17-843b-2a5898366949",
   "metadata": {},
   "outputs": [
    {
     "name": "stdout",
     "output_type": "stream",
     "text": [
      "3\n",
      "7\n",
      "11\n",
      "15\n",
      "19\n",
      "23\n",
      "27\n",
      "31\n"
     ]
    }
   ],
   "source": [
    "for i in range(8):\n",
    "    print(4 * i + 3)"
   ]
  },
  {
   "cell_type": "markdown",
   "id": "0fdd2206-0d18-4f02-bc82-d14cf497e922",
   "metadata": {},
   "source": [
    "### 10. Write a Python program to print the first 6 terms of a geometric sequence starting with 2 and having a common ratio of 3"
   ]
  },
  {
   "cell_type": "code",
   "execution_count": 10,
   "id": "4975d6f5-100c-4eb8-8ab0-76c15171ac74",
   "metadata": {},
   "outputs": [
    {
     "name": "stdout",
     "output_type": "stream",
     "text": [
      "2\n",
      "6\n",
      "18\n",
      "54\n",
      "162\n",
      "486\n"
     ]
    }
   ],
   "source": [
    "for i in range(6):\n",
    "    print((3 ** i) * 2)"
   ]
  },
  {
   "cell_type": "markdown",
   "id": "f6f53f61-a195-4cae-b529-40d15245a338",
   "metadata": {},
   "source": [
    "### 11. Write a program that asks the user for a positive integer value. The program should calculate the sum of all the integers from 1 up to the number entered"
   ]
  },
  {
   "cell_type": "code",
   "execution_count": 1,
   "id": "d2abea06-8077-4bcc-960a-f24320d372d2",
   "metadata": {},
   "outputs": [
    {
     "name": "stdin",
     "output_type": "stream",
     "text": [
      "Enter a random integer 10\n"
     ]
    },
    {
     "name": "stdout",
     "output_type": "stream",
     "text": [
      "55\n"
     ]
    }
   ],
   "source": [
    "n = int(input(\"Enter a random integer\"))\n",
    "total = 0\n",
    "\n",
    "for i in range(n):\n",
    "    total += i + 1\n",
    "\n",
    "print(total)"
   ]
  },
  {
   "cell_type": "markdown",
   "id": "e1627e78-a5e0-4e2a-a09a-236b5f296907",
   "metadata": {},
   "source": [
    "### 12. write a program that takes a positive integer N as input and calculates the sum of the reciprocals of all numbers from 1 up to N. The program should display the final sum"
   ]
  },
  {
   "cell_type": "code",
   "execution_count": 16,
   "id": "585093da-45ae-486d-afe2-a171c7a33e00",
   "metadata": {},
   "outputs": [
    {
     "name": "stdin",
     "output_type": "stream",
     "text": [
      "Enter a random integer 6\n"
     ]
    },
    {
     "name": "stdout",
     "output_type": "stream",
     "text": [
      "2.45\n"
     ]
    }
   ],
   "source": [
    "n = int(input(\"Enter a random integer\"))\n",
    "total = 0\n",
    "\n",
    "for i in range(n):\n",
    "    total += 1 / (i + 1)\n",
    "\n",
    "print(round(total, 2))"
   ]
  },
  {
   "cell_type": "markdown",
   "id": "8e992ead-784c-4544-b111-f5855a86ad6f",
   "metadata": {},
   "source": [
    "### 13. Write a program that prompts the user to enter a number and repeats this process 5 times. The program should accumulate the numbers entered and then display the final running total"
   ]
  },
  {
   "cell_type": "code",
   "execution_count": 19,
   "id": "0ea7ced5-65f7-4e4c-a078-3082f0a62db9",
   "metadata": {},
   "outputs": [
    {
     "name": "stdin",
     "output_type": "stream",
     "text": [
      "Enter a random number 20\n",
      "Enter a random number 20\n",
      "Enter a random number 20\n",
      "Enter a random number 20\n",
      "Enter a random number 20\n"
     ]
    },
    {
     "name": "stdout",
     "output_type": "stream",
     "text": [
      "The final running total is: 100\n"
     ]
    }
   ],
   "source": [
    "total = 0\n",
    "\n",
    "for i in range(5):\n",
    "    num = int(input(\"Enter a random number\"))\n",
    "    total += num\n",
    "\n",
    "print(f\"The final running total is: {total}\")"
   ]
  },
  {
   "cell_type": "markdown",
   "id": "538bc9db-7175-439a-8bfe-eadb10cbb0eb",
   "metadata": {},
   "source": [
    "### 14. Write a program that prompts the user to enter a positive integer and calculates its factorial"
   ]
  },
  {
   "cell_type": "code",
   "execution_count": 15,
   "id": "964efdb2-57ff-4bfb-848f-ab7499d16725",
   "metadata": {},
   "outputs": [
    {
     "name": "stdin",
     "output_type": "stream",
     "text": [
      "Enter a random integer 4\n"
     ]
    },
    {
     "name": "stdout",
     "output_type": "stream",
     "text": [
      "24\n"
     ]
    }
   ],
   "source": [
    "n = int(input(\"Enter the number you want a factorial for\"))\n",
    "fact = 1\n",
    "\n",
    "while n > 0:\n",
    "    fact = fact * n\n",
    "    n -= 1\n",
    "\n",
    "print(fact)"
   ]
  },
  {
   "cell_type": "markdown",
   "id": "adf376ac-85bb-4e19-93b0-27f9e93fbfcb",
   "metadata": {},
   "source": [
    "### 15. Write a Python program that prompts the user to enter a base number and an exponent, and then calculates the power of the base to the exponent"
   ]
  },
  {
   "cell_type": "code",
   "execution_count": 11,
   "id": "451fa23a-ce78-4f38-8c2c-48bbc3776e56",
   "metadata": {},
   "outputs": [
    {
     "name": "stdin",
     "output_type": "stream",
     "text": [
      "Enter the base 2\n",
      "Enter the exponent 5\n"
     ]
    },
    {
     "name": "stdout",
     "output_type": "stream",
     "text": [
      "2\n",
      "4\n",
      "8\n",
      "16\n",
      "32\n"
     ]
    }
   ],
   "source": [
    "base = int(input(\"Enter the base\"))\n",
    "exponent = int(input(\"Enter the exponent\"))\n",
    "ans = 1\n",
    "\n",
    "for i in range(exponent):\n",
    "    ans = ans * base\n",
    "    print(ans)"
   ]
  }
 ],
 "metadata": {
  "kernelspec": {
   "display_name": "Python 3 (ipykernel)",
   "language": "python",
   "name": "python3"
  },
  "language_info": {
   "codemirror_mode": {
    "name": "ipython",
    "version": 3
   },
   "file_extension": ".py",
   "mimetype": "text/x-python",
   "name": "python",
   "nbconvert_exporter": "python",
   "pygments_lexer": "ipython3",
   "version": "3.12.7"
  }
 },
 "nbformat": 4,
 "nbformat_minor": 5
}

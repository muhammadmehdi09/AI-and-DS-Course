{
 "cells": [
  {
   "cell_type": "markdown",
   "metadata": {},
   "source": [
    "### 1. Area of a Rectangle\n"
   ]
  },
  {
   "cell_type": "code",
   "execution_count": 2,
   "metadata": {},
   "outputs": [
    {
     "name": "stdout",
     "output_type": "stream",
     "text": [
      "144.0\n"
     ]
    }
   ],
   "source": [
    "length = float(input(\"Enter Length \"))\n",
    "width = float(input(\"Enter Width \"))\n",
    "print(length * width)"
   ]
  },
  {
   "cell_type": "markdown",
   "metadata": {},
   "source": [
    "### 2. Circumference of a Circle"
   ]
  },
  {
   "cell_type": "code",
   "execution_count": 36,
   "metadata": {},
   "outputs": [
    {
     "name": "stdout",
     "output_type": "stream",
     "text": [
      "62.83185307179586\n"
     ]
    }
   ],
   "source": [
    "radius = float(input(\"Enter Radius \"))\n",
    "import math\n",
    "print(radius * 2 * math.pi)"
   ]
  },
  {
   "cell_type": "markdown",
   "metadata": {},
   "source": [
    "### 3. Simple Interest"
   ]
  },
  {
   "cell_type": "code",
   "execution_count": null,
   "metadata": {},
   "outputs": [],
   "source": [
    "principle = float(input(\"Enter Principle \"))\n",
    "time = float(input(\"Enter Time \"))\n",
    "rate = float(input(\"Enter Rate \"))\n",
    "print(principle * time * rate)"
   ]
  },
  {
   "cell_type": "markdown",
   "metadata": {},
   "source": [
    "### 4. Speed of an object"
   ]
  },
  {
   "cell_type": "code",
   "execution_count": null,
   "metadata": {},
   "outputs": [],
   "source": [
    "distance = float(input(\"Enter Distance \"))\n",
    "time = float(input(\"Enter Time \"))\n",
    "print(distance/time)"
   ]
  },
  {
   "cell_type": "markdown",
   "metadata": {},
   "source": [
    "### 5. BMI Calculator"
   ]
  },
  {
   "cell_type": "code",
   "execution_count": null,
   "metadata": {},
   "outputs": [],
   "source": [
    "weight = float(input(\"Enter Weight in kilograms \"))\n",
    "height = float(input(\"Enter Height in meters \"))\n",
    "print(weight/(height ** 2))"
   ]
  },
  {
   "cell_type": "markdown",
   "metadata": {},
   "source": [
    "### 6. Force Using Newton's Second Law"
   ]
  },
  {
   "cell_type": "code",
   "execution_count": null,
   "metadata": {},
   "outputs": [],
   "source": [
    "mass = float(input(\"Enter Mass \"))\n",
    "acceleration = float(input(\"Enter Acceleration \"))\n",
    "print(mass * acceleration)"
   ]
  },
  {
   "cell_type": "markdown",
   "metadata": {},
   "source": [
    "### 7. Compound Interest"
   ]
  },
  {
   "cell_type": "code",
   "execution_count": 16,
   "metadata": {},
   "outputs": [
    {
     "name": "stdout",
     "output_type": "stream",
     "text": [
      "1209.9166361318248\n"
     ]
    }
   ],
   "source": [
    "p = float(input(\"Enter Principle \"))\n",
    "t = float(input(\"Enter Time \"))\n",
    "r = float(input(\"Enter Rate \"))\n",
    "n = float(input(\"Enter the number of times interst is compounded per year \"))\n",
    "print(p * (1 + (r / (100 * n))) ** (t - n/100))"
   ]
  },
  {
   "cell_type": "markdown",
   "metadata": {},
   "source": [
    "### 8. Perimeter of a Triangle"
   ]
  },
  {
   "cell_type": "code",
   "execution_count": null,
   "metadata": {},
   "outputs": [
    {
     "name": "stdout",
     "output_type": "stream",
     "text": [
      "36.0\n"
     ]
    }
   ],
   "source": [
    "a = float(input(\"Enter length of first side \"))\n",
    "b = float(input(\"Enter length of second side \"))\n",
    "c = float(input(\"Enter length of third side \"))\n",
    "print(a + b + c)"
   ]
  },
  {
   "cell_type": "markdown",
   "metadata": {},
   "source": [
    "### 9. Volume of a Sphere"
   ]
  },
  {
   "cell_type": "code",
   "execution_count": null,
   "metadata": {},
   "outputs": [
    {
     "name": "stdout",
     "output_type": "stream",
     "text": [
      "7238.2294656\n"
     ]
    }
   ],
   "source": [
    "radius = float(input(\"Enter Radius \"))\n",
    "print((4/3) * (radius ** 3) * math.pi)"
   ]
  },
  {
   "cell_type": "markdown",
   "metadata": {},
   "source": [
    "### 10. Kinetic Energy"
   ]
  },
  {
   "cell_type": "code",
   "execution_count": 22,
   "metadata": {},
   "outputs": [
    {
     "name": "stdout",
     "output_type": "stream",
     "text": [
      "720.0\n"
     ]
    }
   ],
   "source": [
    "velocity = float(input(\"Enter Velocity \"))\n",
    "mass = float(input(\"Enter Mass \"))\n",
    "print((mass * (velocity ** 2)) / 2)"
   ]
  },
  {
   "cell_type": "markdown",
   "metadata": {},
   "source": [
    "### 11. Quadratic Equation Roots"
   ]
  },
  {
   "cell_type": "code",
   "execution_count": 26,
   "metadata": {},
   "outputs": [
    {
     "name": "stdout",
     "output_type": "stream",
     "text": [
      "-1.8377223398316205 -8.16227766016838\n"
     ]
    }
   ],
   "source": [
    "a = float(input(\"Enter a \"))\n",
    "b = float(input(\"Enter b \"))\n",
    "c = float(input(\"Enter c \"))\n",
    "print(((-1 * b) + (((b ** 2) - (4 * a * c)) ** 0.5)) / (2 * a), ((-1 * b) - (((b ** 2) - (4 * a * c)) ** 0.5)) / (2 * a))"
   ]
  },
  {
   "cell_type": "markdown",
   "metadata": {},
   "source": [
    "### 12. Temperature Conversion"
   ]
  },
  {
   "cell_type": "code",
   "execution_count": 28,
   "metadata": {},
   "outputs": [
    {
     "name": "stdout",
     "output_type": "stream",
     "text": [
      "248.0\n"
     ]
    }
   ],
   "source": [
    "temprature = float(input(\"Enter temprature in Degree Celcius \"))\n",
    "print(((9 * temprature) / 5) + 32)"
   ]
  },
  {
   "cell_type": "markdown",
   "metadata": {},
   "source": [
    "### 13. Gravitational Force"
   ]
  },
  {
   "cell_type": "code",
   "execution_count": 30,
   "metadata": {},
   "outputs": [
    {
     "name": "stdout",
     "output_type": "stream",
     "text": [
      "9.81\n"
     ]
    }
   ],
   "source": [
    "mass1 = float(input(\"Enter first Mass \"))\n",
    "mass2 = float(input(\"Enter second Mass \"))\n",
    "r = float(input(\"Enter distance between both objects center \"))\n",
    "print(9.81 * mass1 * mass2 / (r ** 2))"
   ]
  },
  {
   "cell_type": "markdown",
   "metadata": {},
   "source": [
    "### 14. Volume of a Cylinder"
   ]
  },
  {
   "cell_type": "code",
   "execution_count": 31,
   "metadata": {},
   "outputs": [
    {
     "name": "stdout",
     "output_type": "stream",
     "text": [
      "3141.59265\n"
     ]
    }
   ],
   "source": [
    "height = float(input(\"Enter Height in meters \"))\n",
    "radius = float(input(\"Enter Radius \"))\n",
    "print(math.pi * (radius ** 2) * height)"
   ]
  },
  {
   "cell_type": "markdown",
   "metadata": {},
   "source": [
    "### 15. Pressure"
   ]
  },
  {
   "cell_type": "code",
   "execution_count": null,
   "metadata": {},
   "outputs": [],
   "source": [
    "force = float(input(\"Enter Force \"))\n",
    "area = float(input(\"Enter Area \"))\n",
    "print(force / area)"
   ]
  },
  {
   "cell_type": "markdown",
   "metadata": {},
   "source": [
    "### 16. Electric Power"
   ]
  },
  {
   "cell_type": "code",
   "execution_count": null,
   "metadata": {},
   "outputs": [],
   "source": [
    "voltage = float(input(\"Enter Voltage \"))\n",
    "resistance = float(input(\"Enter Resistance \"))\n",
    "print(voltage / resistance)"
   ]
  },
  {
   "cell_type": "markdown",
   "metadata": {},
   "source": [
    "### 17. Perimeter of a Circle (Circumference) (Repeated from #2)"
   ]
  },
  {
   "cell_type": "code",
   "execution_count": null,
   "metadata": {},
   "outputs": [],
   "source": [
    "radius = float(input(\"Enter Radius \"))\n",
    "print(radius * 2 * math.pi)"
   ]
  },
  {
   "cell_type": "markdown",
   "metadata": {},
   "source": [
    "### 18. Future Value in Savings:"
   ]
  },
  {
   "cell_type": "code",
   "execution_count": null,
   "metadata": {},
   "outputs": [],
   "source": [
    "p = float(input(\"Enter Principle \"))\n",
    "t = float(input(\"Enter Time \"))\n",
    "r = float(input(\"Enter Rate \"))\n",
    "print(p * (1 + (r / 100)) ** t)"
   ]
  },
  {
   "cell_type": "markdown",
   "metadata": {},
   "source": [
    "### 19. Work Done by a Force"
   ]
  },
  {
   "cell_type": "code",
   "execution_count": 42,
   "metadata": {},
   "outputs": [
    {
     "name": "stdout",
     "output_type": "stream",
     "text": [
      "98.4807753012208\n"
     ]
    }
   ],
   "source": [
    "force = float(input(\"Enter Force \"))\n",
    "distance = float(input(\"Enter Distance \"))\n",
    "theta = float(input(\"Enter Theta \"))\n",
    "print(force * distance * (math.cos(math.radians(theta))))"
   ]
  },
  {
   "cell_type": "markdown",
   "metadata": {},
   "source": [
    "### 20.  Heat Transfer"
   ]
  },
  {
   "cell_type": "code",
   "execution_count": 44,
   "metadata": {},
   "outputs": [
    {
     "name": "stdout",
     "output_type": "stream",
     "text": [
      "1000.0\n"
     ]
    }
   ],
   "source": [
    "mass = float(input(\"Enter Mass \"))\n",
    "c = float(input(\"Enter Specific Heat Capacity \"))\n",
    "t = float(input(\"Enter Change in temprature \"))\n",
    "print(mass * c * t)"
   ]
  }
 ],
 "metadata": {
  "kernelspec": {
   "display_name": "Python 3 (ipykernel)",
   "language": "python",
   "name": "python3"
  },
  "language_info": {
   "codemirror_mode": {
    "name": "ipython",
    "version": 3
   },
   "file_extension": ".py",
   "mimetype": "text/x-python",
   "name": "python",
   "nbconvert_exporter": "python",
   "pygments_lexer": "ipython3",
   "version": "3.12.7"
  }
 },
 "nbformat": 4,
 "nbformat_minor": 4
}

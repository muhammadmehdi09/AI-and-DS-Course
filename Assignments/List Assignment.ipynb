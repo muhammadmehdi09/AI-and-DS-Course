{
 "cells": [
  {
   "cell_type": "markdown",
   "id": "39e8ea62-1c88-482f-b156-0275139bde28",
   "metadata": {},
   "source": [
    "### 1. Write a program that accepts a list from user and print the alternate element of list"
   ]
  },
  {
   "cell_type": "code",
   "execution_count": 2,
   "id": "3652b42e-7887-4f90-b67c-06b39ab7eb96",
   "metadata": {},
   "outputs": [
    {
     "name": "stdin",
     "output_type": "stream",
     "text": [
      "How many strings do you want to enter 12\n",
      "Enter a string 1\n",
      "Enter a string 2\n",
      "Enter a string 2\n",
      "Enter a string 1\n",
      "Enter a string 2d\n",
      "Enter a string 2e2c\n",
      "Enter a string 34efc\n",
      "Enter a string 4e\n",
      "Enter a string cfe\n",
      "Enter a string \n",
      "Enter a string deede\n",
      "Enter a string edefce\n"
     ]
    },
    {
     "name": "stdout",
     "output_type": "stream",
     "text": [
      "1\n",
      "2\n",
      "2d\n",
      "34efc\n",
      "cfe\n",
      "deede\n"
     ]
    }
   ],
   "source": [
    "totalNum = int(input(\"How many strings do you want to enter\"))\n",
    "strings = []\n",
    "\n",
    "for i in range(totalNum):\n",
    "    string = input(\"Enter a string\")\n",
    "    strings.append(string)\n",
    "\n",
    "for i in range(0, len(strings), 2):\n",
    "    print(strings[i])"
   ]
  },
  {
   "cell_type": "markdown",
   "id": "a7820331-640d-4866-acf1-871d0d130f03",
   "metadata": {},
   "source": [
    "### 2. Write a program that accepts a list from user. Your program should reverse the content of list and display it"
   ]
  },
  {
   "cell_type": "code",
   "execution_count": 9,
   "id": "fc5a1bfd-8782-4a88-86f1-bd8b20d93645",
   "metadata": {},
   "outputs": [
    {
     "name": "stdin",
     "output_type": "stream",
     "text": [
      "How many strings do you want to enter 5\n",
      "Enter a string a\n",
      "Enter a string b\n",
      "Enter a string c\n",
      "Enter a string e\n",
      "Enter a string f\n"
     ]
    },
    {
     "name": "stdout",
     "output_type": "stream",
     "text": [
      "['f', 'e', 'c', 'b', 'a']\n"
     ]
    }
   ],
   "source": [
    "totalNum = int(input(\"How many strings do you want to enter\"))\n",
    "strings = []\n",
    "newList = []\n",
    "\n",
    "for i in range(totalNum):\n",
    "    string = input(\"Enter a string\")\n",
    "    strings.append(string)\n",
    "\n",
    "for i in range(len(strings), 0, -1):\n",
    "    newList.append(strings[i - 1])\n",
    "\n",
    "print(newList)"
   ]
  },
  {
   "cell_type": "markdown",
   "id": "f7ed1c70-cf81-4cd2-9030-b94aa17f7b2b",
   "metadata": {},
   "source": [
    "### 3. Find and display the largest number of a list"
   ]
  },
  {
   "cell_type": "code",
   "execution_count": 4,
   "id": "62728f39-2798-4aa4-863b-db907a35f884",
   "metadata": {},
   "outputs": [
    {
     "name": "stdin",
     "output_type": "stream",
     "text": [
      "How many numbers do you want to enter 3\n",
      "Enter a number 123\n",
      "Enter a number 456\n",
      "Enter a number 234\n"
     ]
    },
    {
     "name": "stdout",
     "output_type": "stream",
     "text": [
      "123.0\n",
      "456.0\n",
      "234.0\n",
      "456.0\n"
     ]
    }
   ],
   "source": [
    "totalNum = int(input(\"How many numbers do you want to enter\"))\n",
    "nums = []\n",
    "maxNum = None\n",
    "\n",
    "for i in range(totalNum):\n",
    "    num = float(input(\"Enter a number\"))\n",
    "    nums.append(num)\n",
    "\n",
    "maxNum = nums[0]\n",
    "\n",
    "for i in range(len(nums)):\n",
    "    print(nums[i])\n",
    "    if nums[i] > maxNum:\n",
    "        maxNum = nums[i]\n",
    "\n",
    "print(maxNum)"
   ]
  },
  {
   "cell_type": "code",
   "execution_count": null,
   "id": "bf4ca5c7-50ec-4f0c-8ca2-191b435b758b",
   "metadata": {},
   "outputs": [],
   "source": []
  }
 ],
 "metadata": {
  "kernelspec": {
   "display_name": "Python 3 (ipykernel)",
   "language": "python",
   "name": "python3"
  },
  "language_info": {
   "codemirror_mode": {
    "name": "ipython",
    "version": 3
   },
   "file_extension": ".py",
   "mimetype": "text/x-python",
   "name": "python",
   "nbconvert_exporter": "python",
   "pygments_lexer": "ipython3",
   "version": "3.12.7"
  }
 },
 "nbformat": 4,
 "nbformat_minor": 5
}

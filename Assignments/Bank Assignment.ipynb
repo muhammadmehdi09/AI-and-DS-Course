{
 "cells": [
  {
   "cell_type": "markdown",
   "id": "33e1f772-aea1-476e-a05f-77d96c551f70",
   "metadata": {},
   "source": [
    "# M.M Bank"
   ]
  },
  {
   "cell_type": "code",
   "execution_count": 8,
   "id": "56172e78-530a-48af-8dfa-0efac19b1d59",
   "metadata": {},
   "outputs": [],
   "source": [
    "# Importing the datetime module to record transaction time and date\n",
    "from datetime import *\n",
    "\n",
    "# Creating an accounts list\n",
    "accounts = [\n",
    "    {\"name\": \"Ashir Ali\", \"balance\": 0, \"transactions\": []},\n",
    "    {\"name\": \"Muhammad Mehdi\", \"balance\": 0, \"transactions\": []}\n",
    "]"
   ]
  },
  {
   "cell_type": "markdown",
   "id": "a8602daf-adc4-4a8e-86f9-ba7a8bfb8a28",
   "metadata": {},
   "source": [
    "## Deposit Function"
   ]
  },
  {
   "cell_type": "code",
   "execution_count": 9,
   "id": "8b7a15cf-3dcb-458c-9bc2-72eb758a122c",
   "metadata": {},
   "outputs": [],
   "source": [
    "def deposit(i):\n",
    "    depositedAmount = float(input(\"How much money do you want to deposit\"))\n",
    "\n",
    "    # If user already has an account\n",
    "    if type(i) == int:   \n",
    "         # If user wants to deposit less than 500 an error comes\n",
    "             if depositedAmount < 500:\n",
    "                 print(\"You have to at least deposit 500 rupees\")\n",
    "                 deposit(i)\n",
    "         \n",
    "         # If user deposits a valid amount\n",
    "             if depositedAmount > 500:\n",
    "                 now = datetime.now()\n",
    "                 accounts[i][\"balance\"] += depositedAmount\n",
    "                 accounts[i][\"transactions\"].append({\"type\": \"deposit\", \"amount\": depositedAmount, \"dateTime\": now.strftime(\"%H:%M %B %d, %Y\"), \"balance\": accounts[i][\"balance\"]})\n",
    "                 print(f\"Your Rs.{depositedAmount} have been deposited and Thank you for visiting {name}\")\n",
    "\n",
    "# If account is not already present\n",
    "    else:\n",
    "    # If user wants to deposit less than 500 an error comes\n",
    "        if depositedAmount < 500:\n",
    "            print(\"You have to at least deposit 500 rupees\")\n",
    "            deposit(i)\n",
    "\n",
    "    # If user deposits valid amount it appends another account with the deposited balance\n",
    "        if depositedAmount > 500:\n",
    "            now = datetime.now()\n",
    "            accounts.append({\"name\": i, \"balance\": depositedAmount, \"transactions\": [{\"type\": \"deposit\", \"amount\": depositedAmount, \"dateTime\": now.strftime(\"%H:%M %B %d, %Y\"), \"balance\": depositedAmount}]})\n",
    "            print(f\"Your Rs.{depositedAmount} have been deposited and Thank you for visiting {name}\")"
   ]
  },
  {
   "cell_type": "markdown",
   "id": "6c1b77f0-c283-4a94-b72e-84b0faef151b",
   "metadata": {},
   "source": [
    "## Withdraw Function"
   ]
  },
  {
   "cell_type": "code",
   "execution_count": 10,
   "id": "774751fb-5e47-4298-bef5-bbf92d85dd2e",
   "metadata": {},
   "outputs": [],
   "source": [
    "def withdraw(i):\n",
    "    \n",
    "# If you user has no balance an error comes\n",
    "    if accounts[i][\"balance\"] == 0:\n",
    "        print(\"Sorry you do not have any balance\")\n",
    "\n",
    "    else:\n",
    "        withdrawedAmount = float(input(\"How much money do you want to withdraw\"))\n",
    "        \n",
    "    # If user wants to withdraw less than 500 an error comes \n",
    "        if withdrawedAmount < 500:\n",
    "            print(\"You have to at least withsraw 500 rupees\")\n",
    "            withdraw(i)\n",
    "    \n",
    "    # If user wants to withdraw more than current balance an error comes \n",
    "        if withdrawedAmount > accounts[i][\"balance\"]:\n",
    "            print(\"You do not have enough balance\")\n",
    "            withdraw(i)\n",
    "    \n",
    "    # If user is withdrawing a valid amount\n",
    "        if withdrawedAmount <= accounts[i][\"balance\"] and withdrawedAmount > 500:\n",
    "            now = datetime.now()\n",
    "            accounts[i][\"balance\"] = accounts[i][\"balance\"] - withdrawedAmount\n",
    "            accounts[i][\"transactions\"].append({\"type\": \"withdraw\", \"amount\": withdrawedAmount, \"dateTime\": now.strftime(\"%H:%M %B %d, %Y\"), \"balance\": accounts[i][\"balance\"]})\n",
    "            print(f\"Here are your Rs.{withdrawedAmount} and Thank you for visiting {name}\")"
   ]
  },
  {
   "cell_type": "markdown",
   "id": "55fba09f-5ec6-42a0-9e84-dc27c76cd999",
   "metadata": {},
   "source": [
    "## Check Transaction History Function"
   ]
  },
  {
   "cell_type": "code",
   "execution_count": 11,
   "id": "d94ae5de-b808-4bb4-b8e5-2f2791883206",
   "metadata": {},
   "outputs": [],
   "source": [
    "def checkTransactionHistory(i):\n",
    "\n",
    "# If user asks for transactions and there are no transactions\n",
    "    if len(accounts[i][\"transactions\"]) == 0:\n",
    "        print(\"There are no transactions yet\")\n",
    "\n",
    "    else:\n",
    "        statement = \"\"\n",
    "        for j in range(len(accounts[i][\"transactions\"])):\n",
    "            statement += f\"You {accounts[i]['transactions'][j][\"type\"]}ed Rs.{accounts[i]['transactions'][j][\"amount\"]} on {accounts[i]['transactions'][j][\"dateTime\"]} and your balance was Rs.{accounts[i]['transactions'][j][\"balance\"]} \\n\"\n",
    "        print(statement)\n",
    "        "
   ]
  },
  {
   "cell_type": "markdown",
   "id": "5cd9e21b-39ce-4839-bbf3-a320cfbbf257",
   "metadata": {},
   "source": [
    "## Check Balance Function"
   ]
  },
  {
   "cell_type": "code",
   "execution_count": 5,
   "id": "e0770554-fb9e-4583-83dc-5664a9b0f487",
   "metadata": {},
   "outputs": [],
   "source": [
    "def checkBalance(i):\n",
    "   print(f\"Your current balance is Rs.{accounts[i][\"balance\"]}\")"
   ]
  },
  {
   "cell_type": "markdown",
   "id": "f6ccd189-7935-45c2-a4a4-9b02a0677c99",
   "metadata": {},
   "source": [
    "## Main Function"
   ]
  },
  {
   "cell_type": "code",
   "execution_count": 6,
   "id": "218d8ece-f382-493f-af90-1a904357b420",
   "metadata": {},
   "outputs": [],
   "source": [
    "def decider(i):\n",
    "    res = input(\"Do you want to deposit[d], withdraw[w], check transaction history[t] or check balance[b]\")\n",
    "        \n",
    "# If user wants to deposit\n",
    "    if res == \"deposit\" or res == \"d\" or res == \"D\":\n",
    "        deposit(i)\n",
    "        \n",
    "# If user wants to withdraw\n",
    "    elif res == \"withdraw\" or res == \"w\" or res == \"W\":\n",
    "        withdraw(i)\n",
    "\n",
    "# If user wants to check balance\n",
    "    elif res == \"check balance\" or res == \"b\" or res == \"B\":\n",
    "        checkBalance(i)\n",
    "\n",
    "# If user wants to check transaction history\n",
    "    elif res == \"check transaction history\" or res == \"t\" or res == \"T\":\n",
    "        checkTransactionHistory(i)\n",
    "\n",
    "# If user doesn't choose any of the given options\n",
    "    else:\n",
    "        print(\"Write deposit[d], withdraw[w], check transaction history[t] or check balance[b]\")\n",
    "        decider(i)\n",
    "            "
   ]
  },
  {
   "cell_type": "code",
   "execution_count": 7,
   "id": "f0cf15f3-9413-4cea-82e0-386a744804a0",
   "metadata": {},
   "outputs": [
    {
     "name": "stdin",
     "output_type": "stream",
     "text": [
      "What is your full name? Muhammad Mehdi\n",
      "Do you want to deposit, withdraw, check transaction history or check balance deposit\n",
      "How much money do you want to deposit 5000\n"
     ]
    },
    {
     "name": "stdout",
     "output_type": "stream",
     "text": [
      "Your Rs.5000.0 have been deposited and Thank you for visiting Muhammad Mehdi\n"
     ]
    }
   ],
   "source": [
    "try:\n",
    "    name = input(\"What is your full name?\")\n",
    "\n",
    "    # Loop that checks if the given name is present in accounts\n",
    "    for i in range(len(accounts)):\n",
    "    \n",
    "    # If name is present in accounts\n",
    "        if accounts[i][\"name\"].lower() == name.lower():\n",
    "            main(i)\n",
    "            break\n",
    "            \n",
    "    # If name is not present in accounts    \n",
    "        elif len(accounts) - 1 == i:\n",
    "            # As the account is new there is no balance or transactions so user can only deposit\n",
    "            res = input(f\"Your account has been created {name}. Do you want do deposit money? Answer yes or no\")\n",
    "            \n",
    "            if res == \"yes\":\n",
    "                deposit(name)\n",
    "                \n",
    "            else:\n",
    "                accounts.append({\"name\": name, \"balance\": 0, \"transactions\": []})\n",
    "                print(f\"Thank you for visiting {name}\")\n",
    "\n",
    "except:\n",
    "    print(\"Please enter a valid value\")"
   ]
  },
  {
   "cell_type": "code",
   "execution_count": 22,
   "id": "ec61fe27-103b-489c-8248-f33ec3da972d",
   "metadata": {},
   "outputs": [
    {
     "name": "stdout",
     "output_type": "stream",
     "text": [
      "\n",
      "        Name: Ashir Ali \n",
      "        Balance: 0 \n",
      "        Transactions: \n",
      "\n",
      "\n",
      "\n",
      "        Name: Muhammad Mehdi \n",
      "        Balance: 0 \n",
      "        Transactions: \n",
      "\n",
      "\n",
      "\n",
      "        Name: Amanullah Khan \n",
      "        Balance: 1000.0 \n",
      "        Transactions: \n",
      "        Amanullah Khan deposited Rs.1000.0 on 17:32 December 26, 2024 and the balance was Rs.1000.0 \n",
      "\n",
      "\n"
     ]
    }
   ],
   "source": [
    "def getAccounts():\n",
    "    for i in range(len(accounts)):\n",
    "        statement = \"\"\n",
    "        for j in range(len(accounts[i][\"transactions\"])):\n",
    "            statement += f\"        {accounts[i][\"name\"]} {accounts[i]['transactions'][j][\"type\"]}ed Rs.{accounts[i]['transactions'][j][\"amount\"]} on {accounts[i]['transactions'][j][\"dateTime\"]} and the balance was Rs.{accounts[i]['transactions'][j][\"balance\"]} \\n\"\n",
    "        print(f\"\"\"\n",
    "        Name: {accounts[i][\"name\"]} \n",
    "        Balance: {accounts[i][\"balance\"]} \n",
    "        Transactions: \\n{statement}\n",
    "\"\"\")\n",
    "\n",
    "getAccounts()"
   ]
  },
  {
   "cell_type": "code",
   "execution_count": null,
   "id": "e458ade5-957f-4d75-9450-472fa9dda4a0",
   "metadata": {},
   "outputs": [],
   "source": []
  }
 ],
 "metadata": {
  "kernelspec": {
   "display_name": "Python 3 (ipykernel)",
   "language": "python",
   "name": "python3"
  },
  "language_info": {
   "codemirror_mode": {
    "name": "ipython",
    "version": 3
   },
   "file_extension": ".py",
   "mimetype": "text/x-python",
   "name": "python",
   "nbconvert_exporter": "python",
   "pygments_lexer": "ipython3",
   "version": "3.12.7"
  }
 },
 "nbformat": 4,
 "nbformat_minor": 5
}

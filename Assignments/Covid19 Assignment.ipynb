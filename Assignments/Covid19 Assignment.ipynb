{
 "cells": [
  {
   "cell_type": "code",
   "execution_count": 62,
   "id": "cacc4779-0096-4261-a541-e22b584a9804",
   "metadata": {},
   "outputs": [],
   "source": [
    "import pandas as pd\n",
    "import matplotlib.pyplot as plt"
   ]
  },
  {
   "cell_type": "markdown",
   "id": "838ab9a1-0446-465c-b482-2b5229659852",
   "metadata": {},
   "source": [
    "## 1. Load and Display Data"
   ]
  },
  {
   "cell_type": "code",
   "execution_count": 63,
   "id": "d1b7eb98-27b5-479a-a6a1-8256a5944092",
   "metadata": {},
   "outputs": [
    {
     "name": "stdout",
     "output_type": "stream",
     "text": [
      "   Unnamed: 0 Country/Region  Confirmed Deaths  Recovered  Active  New cases  \\\n",
      "0           0    Afghanistan      36263   1269      25198    9796      106.0   \n",
      "1           1        Albania       4880    144       2745    1991      117.0   \n",
      "2           2        Algeria      27973   1163      18837    7973      616.0   \n",
      "3           3        Andorra        907     52        803      52       10.0   \n",
      "4           4         Angola        950     41        242     667       18.0   \n",
      "\n",
      "   New deaths  New recovered  Deaths / 100 Cases  Recovered / 100 Cases  \\\n",
      "0        10.0             18                3.50                  69.49   \n",
      "1         6.0             63                2.95                  56.25   \n",
      "2         8.0            749                4.16                  67.34   \n",
      "3         0.0              0                5.73                  88.53   \n",
      "4         1.0              0                4.32                  25.47   \n",
      "\n",
      "   Deaths / 100 Recovered  Confirmed last week  1 week change  \\\n",
      "0                    5.04                35526            737   \n",
      "1                    5.25                 4171            709   \n",
      "2                    6.17                23691           4282   \n",
      "3                    6.48                  884             23   \n",
      "4                   16.94                  749            201   \n",
      "\n",
      "   1 week % increase             WHO Region  \n",
      "0               2.07  Eastern Mediterranean  \n",
      "1              17.00                 Europe  \n",
      "2              18.07                 Africa  \n",
      "3               2.60                 Europe  \n",
      "4              26.84                 Africa  \n"
     ]
    }
   ],
   "source": [
    "df = pd.read_csv('covid_19_country_wise_latest.csv')\n",
    "print(df.head())"
   ]
  },
  {
   "cell_type": "markdown",
   "id": "e04916df-106c-48bd-ac0d-48b5a37e3fe2",
   "metadata": {},
   "source": [
    "## 2. Set the Dataset index"
   ]
  },
  {
   "cell_type": "code",
   "execution_count": 64,
   "id": "e9c69c6b-d6a6-4c93-9ded-380bfaae2648",
   "metadata": {},
   "outputs": [],
   "source": [
    "df.set_index('Unnamed: 0', inplace=True)"
   ]
  },
  {
   "cell_type": "markdown",
   "id": "09eab4ef-65b0-4a19-a84e-1b8b313e88b5",
   "metadata": {},
   "source": [
    "## 3. Rename the index column"
   ]
  },
  {
   "cell_type": "code",
   "execution_count": 65,
   "id": "9cd74715-aa16-4746-8575-c11ed9d526e5",
   "metadata": {},
   "outputs": [],
   "source": [
    "df.index.name = 'index'"
   ]
  },
  {
   "cell_type": "markdown",
   "id": "800746b5-b93f-4e43-ab50-50a11466c88b",
   "metadata": {},
   "source": [
    "## 4. Function to replace whitespace with underscores in column names"
   ]
  },
  {
   "cell_type": "code",
   "execution_count": 66,
   "id": "31695974-27dd-4bdf-bfa2-87dee81bb015",
   "metadata": {},
   "outputs": [],
   "source": [
    "def clean_column_names(dataframe):\n",
    "    dataframe.columns = dataframe.columns.str.replace(' ', '_')\n",
    "    return dataframe\n",
    "\n",
    "df = clean_column_names(df)"
   ]
  },
  {
   "cell_type": "markdown",
   "id": "b10043d6-72c7-4b25-8693-3d9926e0bc93",
   "metadata": {},
   "source": [
    "## 5. Check Basic Information"
   ]
  },
  {
   "cell_type": "code",
   "execution_count": 67,
   "id": "87fb82cc-ba59-49e1-985c-af2d862988b5",
   "metadata": {},
   "outputs": [
    {
     "name": "stdout",
     "output_type": "stream",
     "text": [
      "<class 'pandas.core.frame.DataFrame'>\n",
      "Index: 187 entries, 0 to 186\n",
      "Data columns (total 15 columns):\n",
      " #   Column                  Non-Null Count  Dtype  \n",
      "---  ------                  --------------  -----  \n",
      " 0   Country/Region          187 non-null    object \n",
      " 1   Confirmed               187 non-null    int64  \n",
      " 2   Deaths                  187 non-null    object \n",
      " 3   Recovered               187 non-null    int64  \n",
      " 4   Active                  187 non-null    int64  \n",
      " 5   New_cases               177 non-null    float64\n",
      " 6   New_deaths              177 non-null    float64\n",
      " 7   New_recovered           187 non-null    int64  \n",
      " 8   Deaths_/_100_Cases      187 non-null    float64\n",
      " 9   Recovered_/_100_Cases   187 non-null    float64\n",
      " 10  Deaths_/_100_Recovered  187 non-null    float64\n",
      " 11  Confirmed_last_week     187 non-null    int64  \n",
      " 12  1_week_change           187 non-null    int64  \n",
      " 13  1_week_%_increase       187 non-null    float64\n",
      " 14  WHO_Region              187 non-null    object \n",
      "dtypes: float64(6), int64(6), object(3)\n",
      "memory usage: 23.4+ KB\n",
      "None\n",
      "Country/Region             0\n",
      "Confirmed                  0\n",
      "Deaths                     0\n",
      "Recovered                  0\n",
      "Active                     0\n",
      "New_cases                 10\n",
      "New_deaths                10\n",
      "New_recovered              0\n",
      "Deaths_/_100_Cases         0\n",
      "Recovered_/_100_Cases      0\n",
      "Deaths_/_100_Recovered     0\n",
      "Confirmed_last_week        0\n",
      "1_week_change              0\n",
      "1_week_%_increase          0\n",
      "WHO_Region                 0\n",
      "dtype: int64\n"
     ]
    }
   ],
   "source": [
    "print(df.info())\n",
    "print(df.isnull().sum())"
   ]
  },
  {
   "cell_type": "markdown",
   "id": "83839b69-59ae-4540-a9f7-f48402cd030f",
   "metadata": {},
   "source": [
    "## 6. Fill NaN values with the mean of the column (only for numeric columns)"
   ]
  },
  {
   "cell_type": "code",
   "execution_count": 68,
   "id": "070a48b9-a840-478e-850a-8e8c1b1bc38b",
   "metadata": {},
   "outputs": [],
   "source": [
    "df.fillna(df.select_dtypes(include=[np.number]).mean(), inplace=True)"
   ]
  },
  {
   "cell_type": "markdown",
   "id": "d596251a-6d86-40e4-a26f-0e4a105103f1",
   "metadata": {},
   "source": [
    "## 7. Count unique countries"
   ]
  },
  {
   "cell_type": "code",
   "execution_count": 69,
   "id": "03684f67-7393-4413-86ba-5875c1b3a2f0",
   "metadata": {},
   "outputs": [
    {
     "name": "stdout",
     "output_type": "stream",
     "text": [
      "Unique countries: 187\n"
     ]
    }
   ],
   "source": [
    "unique_countries = df['Country/Region'].nunique()\n",
    "print(f\"Unique countries: {unique_countries}\")"
   ]
  },
  {
   "cell_type": "markdown",
   "id": "b3808962-6cbb-42f1-ba57-8ea617b071fe",
   "metadata": {},
   "source": [
    "## 8. Check and remove duplicate country entries"
   ]
  },
  {
   "cell_type": "code",
   "execution_count": 70,
   "id": "17e26ddd-dac7-46c5-b73f-fe3dbcec6293",
   "metadata": {},
   "outputs": [],
   "source": [
    "df.drop_duplicates(subset=['Country/Region'], keep='first', inplace=True)"
   ]
  },
  {
   "cell_type": "markdown",
   "id": "623a68e7-07c2-433e-b7e6-ab1d2bb926a6",
   "metadata": {},
   "source": [
    "## 9. Statistics of Total Cases"
   ]
  },
  {
   "cell_type": "code",
   "execution_count": 71,
   "id": "4bdc775e-9d61-4bb7-9718-30f26b4a3eb2",
   "metadata": {},
   "outputs": [
    {
     "name": "stdout",
     "output_type": "stream",
     "text": [
      "Mean: 88130.935828877\n",
      "Median: 5059.0\n",
      "Standard Deviation: 383318.6638306154\n"
     ]
    }
   ],
   "source": [
    "print(f\"Mean: {df['Confirmed'].mean()}\")\n",
    "print(f\"Median: {df['Confirmed'].median()}\")\n",
    "print(f\"Standard Deviation: {df['Confirmed'].std()}\")"
   ]
  },
  {
   "cell_type": "markdown",
   "id": "c6d26495-aa64-4c2f-b4fd-9a62856f290d",
   "metadata": {},
   "source": [
    "## 10. Replace string values in Deaths column with its mean"
   ]
  },
  {
   "cell_type": "code",
   "execution_count": 72,
   "id": "413a58d0-edd9-45fc-bb28-11ce5562f217",
   "metadata": {},
   "outputs": [
    {
     "name": "stderr",
     "output_type": "stream",
     "text": [
      "C:\\Users\\Mehdi\\AppData\\Local\\Temp\\ipykernel_7096\\1475531195.py:2: FutureWarning: A value is trying to be set on a copy of a DataFrame or Series through chained assignment using an inplace method.\n",
      "The behavior will change in pandas 3.0. This inplace method will never work because the intermediate object on which we are setting values always behaves as a copy.\n",
      "\n",
      "For example, when doing 'df[col].method(value, inplace=True)', try using 'df.method({col: value}, inplace=True)' or df[col] = df[col].method(value) instead, to perform the operation inplace on the original object.\n",
      "\n",
      "\n",
      "  df['Deaths'].fillna(df['Deaths'].mean(), inplace=True)\n"
     ]
    }
   ],
   "source": [
    "df['Deaths'] = pd.to_numeric(df['Deaths'], errors='coerce')\n",
    "df['Deaths'].fillna(df['Deaths'].mean(), inplace=True)"
   ]
  },
  {
   "cell_type": "markdown",
   "id": "5f7199ab-61c0-4ead-aa4f-50ebb7faedc9",
   "metadata": {},
   "source": [
    "## 11. Change Deaths column datatype"
   ]
  },
  {
   "cell_type": "code",
   "execution_count": 73,
   "id": "e9a6aa7c-4643-4e05-9609-464f5dd1af80",
   "metadata": {},
   "outputs": [],
   "source": [
    "df['Deaths'] = df['Deaths'].astype(float)"
   ]
  },
  {
   "cell_type": "markdown",
   "id": "626c1df8-84d6-4173-8480-6cf2c5c6a5bb",
   "metadata": {},
   "source": [
    "## 12. Total Deaths and Recoveries worldwide"
   ]
  },
  {
   "cell_type": "code",
   "execution_count": 74,
   "id": "b13585e6-df86-4520-bde9-c3b7ae22bdc8",
   "metadata": {},
   "outputs": [
    {
     "name": "stdout",
     "output_type": "stream",
     "text": [
      "Total Deaths: 657516.1290322581, Total Recoveries: 9468087\n"
     ]
    }
   ],
   "source": [
    "total_deaths = df['Deaths'].sum()\n",
    "total_recoveries = df['Recovered'].sum()\n",
    "print(f\"Total Deaths: {total_deaths}, Total Recoveries: {total_recoveries}\")"
   ]
  },
  {
   "cell_type": "markdown",
   "id": "43ef2206-1a34-46d4-8706-77b5c57e1b3a",
   "metadata": {},
   "source": [
    "## 13. Countries with more than 1 million total cases"
   ]
  },
  {
   "cell_type": "code",
   "execution_count": 75,
   "id": "52a53407-fd0d-46dc-a4b3-0bb4a603a63d",
   "metadata": {},
   "outputs": [
    {
     "name": "stdout",
     "output_type": "stream",
     "text": [
      "      Country/Region  Confirmed\n",
      "index                          \n",
      "23            Brazil    2442375\n",
      "79             India    1480073\n",
      "173               US    4290259\n"
     ]
    }
   ],
   "source": [
    "high_case_countries = df[df['Confirmed'] > 1_000_000]\n",
    "print(high_case_countries[['Country/Region', 'Confirmed']])"
   ]
  },
  {
   "cell_type": "markdown",
   "id": "d43ca729-a9bb-4a0b-bc92-1ad8b39ae743",
   "metadata": {},
   "source": [
    "## 14. Countries with a recovery rate above 95%"
   ]
  },
  {
   "cell_type": "code",
   "execution_count": 76,
   "id": "5c24bb74-765a-4991-bd66-536e8d306828",
   "metadata": {},
   "outputs": [
    {
     "name": "stdout",
     "output_type": "stream",
     "text": [
      "      Country/Region  Recovery_Rate\n",
      "index                              \n",
      "24            Brunei      97.872340\n",
      "48          Djibouti      98.379126\n",
      "49          Dominica     100.000000\n",
      "69           Grenada     100.000000\n",
      "75          Holy See     100.000000\n",
      "78           Iceland      98.327940\n",
      "105         Malaysia      96.597035\n",
      "110        Mauritius      96.511628\n",
      "121      New Zealand      97.238279\n",
      "126           Norway      95.838809\n",
      "136            Qatar      97.017254\n",
      "164          Taiwan*      95.238095\n"
     ]
    }
   ],
   "source": [
    "df['Recovery_Rate'] = (df['Recovered'] / df['Confirmed']) * 100\n",
    "high_recovery_countries = df[df['Recovery_Rate'] > 95]\n",
    "print(high_recovery_countries[['Country/Region', 'Recovery_Rate']])"
   ]
  },
  {
   "cell_type": "markdown",
   "id": "069bd741-ff96-4259-a464-340f3c3ae811",
   "metadata": {},
   "source": [
    "## 15. Drop WHO Region and Confirmed columns"
   ]
  },
  {
   "cell_type": "code",
   "execution_count": 77,
   "id": "5a29c1e7-8ea6-472f-a557-b19126cb111f",
   "metadata": {},
   "outputs": [],
   "source": [
    "df.drop(columns=['WHO_Region', 'Confirmed'], inplace=True)"
   ]
  },
  {
   "cell_type": "markdown",
   "id": "8758ad08-378b-4abe-a484-cc2601ab0437",
   "metadata": {},
   "source": [
    "## 16. Country with Max Deaths"
   ]
  },
  {
   "cell_type": "code",
   "execution_count": 78,
   "id": "0a2b6c0e-82bc-4e28-990f-e08237f2827a",
   "metadata": {},
   "outputs": [
    {
     "name": "stdout",
     "output_type": "stream",
     "text": [
      "Country with max deaths: US\n"
     ]
    }
   ],
   "source": [
    "max_deaths_country = df.loc[df['Deaths'].idxmax(), 'Country/Region']\n",
    "print(f\"Country with max deaths: {max_deaths_country}\")"
   ]
  },
  {
   "cell_type": "markdown",
   "id": "2813cd4b-3d4e-401e-bd23-748a213af4f1",
   "metadata": {},
   "source": [
    "## 17. Sort Countries by Deaths in Descending Order"
   ]
  },
  {
   "cell_type": "code",
   "execution_count": 79,
   "id": "11e86b99-232a-4c95-ad97-cc0e1d809ac5",
   "metadata": {},
   "outputs": [
    {
     "name": "stdout",
     "output_type": "stream",
     "text": [
      "       Country/Region    Deaths\n",
      "index                          \n",
      "173                US  148011.0\n",
      "23             Brazil   87618.0\n",
      "177    United Kingdom   45844.0\n",
      "111            Mexico   44022.0\n",
      "85              Italy   35112.0\n"
     ]
    }
   ],
   "source": [
    "df_sorted_by_deaths = df.sort_values(by='Deaths', ascending=False)\n",
    "print(df_sorted_by_deaths[['Country/Region', 'Deaths']].head())"
   ]
  },
  {
   "cell_type": "markdown",
   "id": "a00fa3d0-ffab-4448-b624-31cb538e9380",
   "metadata": {},
   "source": [
    "## 18. Create Confirmed column"
   ]
  },
  {
   "cell_type": "code",
   "execution_count": 80,
   "id": "e45bc0a9-98c0-40da-ba17-37c37e9b5bea",
   "metadata": {},
   "outputs": [],
   "source": [
    "df['Confirmed'] = df['Deaths'] + df['Recovered'] + df['Active']"
   ]
  },
  {
   "cell_type": "markdown",
   "id": "348b45b5-843b-4303-820c-d62f31edfea5",
   "metadata": {},
   "source": [
    "## 19. Calculate Death_Rate"
   ]
  },
  {
   "cell_type": "code",
   "execution_count": 81,
   "id": "c6175e0c-e955-43e1-8f20-05d465a812a5",
   "metadata": {},
   "outputs": [],
   "source": [
    "df['Death_Rate'] = (df['Deaths'] / df['Confirmed']) * 100"
   ]
  },
  {
   "cell_type": "markdown",
   "id": "6b3fa03a-f746-45b3-90c8-74fb587ffc4d",
   "metadata": {},
   "source": [
    "## 20. Identify countries where cases are increasing but death rates are low"
   ]
  },
  {
   "cell_type": "code",
   "execution_count": 82,
   "id": "8cb18ceb-9ea6-4c1e-9cfa-c58d0708a4e6",
   "metadata": {},
   "outputs": [
    {
     "name": "stdout",
     "output_type": "stream",
     "text": [
      "                         Country/Region  Confirmed  Death_Rate\n",
      "index                                                         \n",
      "12                              Bahrain    39482.0    0.357125\n",
      "15                              Belarus    67251.0    0.799988\n",
      "28                              Burundi      378.0    0.264550\n",
      "29                           Cabo Verde     2328.0    0.945017\n",
      "41                           Costa Rica    15841.0    0.725964\n",
      "69                              Grenada       23.0    0.000000\n",
      "84                               Israel    63985.0    0.740799\n",
      "89                           Kazakhstan    84648.0    0.691097\n",
      "92                               Kuwait    64379.0    0.680346\n",
      "103                          Madagascar     9690.0    0.939112\n",
      "114                            Mongolia      289.0    0.000000\n",
      "118                             Namibia     1843.0    0.434075\n",
      "119                               Nepal    18752.0    0.255973\n",
      "127                                Oman    77058.0    0.510005\n",
      "131                            Paraguay     4548.0    0.945471\n",
      "136                               Qatar   109597.0    0.150552\n",
      "141                         Saint Lucia       24.0    0.000000\n",
      "142    Saint Vincent and the Grenadines       52.0    0.000000\n",
      "150                           Singapore    50838.0    0.053110\n",
      "165                          Tajikistan     7235.0    0.829302\n",
      "179                          Uzbekistan    21209.0    0.570513\n",
      "182                  West Bank and Gaza    10621.0    0.734394\n"
     ]
    }
   ],
   "source": [
    "increasing_cases_low_deaths = df[(df['Confirmed'].diff() > 0) & (df['Death_Rate'] < 1)]\n",
    "print(increasing_cases_low_deaths[['Country/Region', 'Confirmed', 'Death_Rate']])"
   ]
  },
  {
   "cell_type": "markdown",
   "id": "45dcbfc8-5cc8-4757-bc84-015d69b065d9",
   "metadata": {},
   "source": [
    "## 21. Print head of only Country/Region and Death_Rate columns"
   ]
  },
  {
   "cell_type": "code",
   "execution_count": 83,
   "id": "09043297-c0a7-493f-9728-dc38bbffa222",
   "metadata": {},
   "outputs": [
    {
     "name": "stdout",
     "output_type": "stream",
     "text": [
      "      Country/Region  Death_Rate\n",
      "index                           \n",
      "0        Afghanistan    3.499435\n",
      "1            Albania    2.950820\n",
      "2            Algeria    4.157581\n",
      "3            Andorra    5.733186\n",
      "4             Angola    4.315789\n"
     ]
    }
   ],
   "source": [
    "print(df[['Country/Region', 'Death_Rate']].head())"
   ]
  },
  {
   "cell_type": "markdown",
   "id": "c5c5baed-6d33-4c8f-87b9-1f701c8f7be8",
   "metadata": {},
   "source": [
    "## 22. Scatter plot of Total Cases vs Deaths"
   ]
  },
  {
   "cell_type": "code",
   "execution_count": 91,
   "id": "56f8af84-a957-4e9f-81cd-09c58df5bb65",
   "metadata": {},
   "outputs": [
    {
     "data": {
      "image/png": "[encoded data removed]",
      "text/plain": [
       "<Figure size 1000x600 with 1 Axes>"
      ]
     },
     "metadata": {},
     "output_type": "display_data"
    }
   ],
   "source": [
    "plt.figure(figsize=(10,6))\n",
    "plt.scatter(df['Confirmed'], df['Deaths'], alpha=0.5)\n",
    "plt.xlabel(\"Total Cases\")\n",
    "plt.ylabel(\"Total Deaths\")\n",
    "plt.title(\"Total Cases vs Total Deaths\")\n",
    "plt.ylim(0, 50000)\n",
    "plt.show()"
   ]
  },
  {
   "cell_type": "markdown",
   "id": "2d576007-2297-4a24-9e77-a8ab30ceb3cb",
   "metadata": {},
   "source": [
    "## 23. Save dataset in CSV format"
   ]
  },
  {
   "cell_type": "code",
   "execution_count": 85,
   "id": "3050f8ec-3a5d-4e59-996b-ba6c74d3e1c0",
   "metadata": {},
   "outputs": [],
   "source": [
    "df.to_csv('cleaned_covid_data.csv', index=False)"
   ]
  }
 ],
 "metadata": {
  "kernelspec": {
   "display_name": "Python 3 (ipykernel)",
   "language": "python",
   "name": "python3"
  },
  "language_info": {
   "codemirror_mode": {
    "name": "ipython",
    "version": 3
   },
   "file_extension": ".py",
   "mimetype": "text/x-python",
   "name": "python",
   "nbconvert_exporter": "python",
   "pygments_lexer": "ipython3",
   "version": "3.12.7"
  }
 },
 "nbformat": 4,
 "nbformat_minor": 5
}

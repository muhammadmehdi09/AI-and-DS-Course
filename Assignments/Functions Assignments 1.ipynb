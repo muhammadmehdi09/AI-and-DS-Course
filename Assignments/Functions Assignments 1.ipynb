{
 "cells": [
  {
   "cell_type": "markdown",
   "id": "dc1fb323-f029-44f7-af01-8e33c7230499",
   "metadata": {},
   "source": [
    "### 1. Write a Python function to find the maximum of three numbers"
   ]
  },
  {
   "cell_type": "code",
   "execution_count": 5,
   "id": "80ee7bac-e7c0-4d64-8f82-010519689d5c",
   "metadata": {},
   "outputs": [
    {
     "name": "stdin",
     "output_type": "stream",
     "text": [
      "Enter the first number 12\n",
      "Enter the second number 156\n",
      "Enter the third number 49\n"
     ]
    },
    {
     "name": "stdout",
     "output_type": "stream",
     "text": [
      "156\n"
     ]
    }
   ],
   "source": [
    "num1 = int(input(\"Enter the first number\"))\n",
    "num2 = int(input(\"Enter the second number\"))\n",
    "num3 = int(input(\"Enter the third number\"))\n",
    "\n",
    "def findMax(a, b, c):\n",
    "    if b >= a and b >= c:\n",
    "        max = b\n",
    "        \n",
    "    elif c >= a and c >= b:\n",
    "        max = c\n",
    "\n",
    "    else:\n",
    "        max = a\n",
    "        \n",
    "    print(max)\n",
    "\n",
    "findMax(num1, num2, num3)"
   ]
  },
  {
   "cell_type": "markdown",
   "id": "dac0c159-e174-4bd3-a4ce-1c32d2d9e11d",
   "metadata": {},
   "source": [
    "### 2. Write a Python function to sum all the numbers in a list"
   ]
  },
  {
   "cell_type": "code",
   "execution_count": 6,
   "id": "3f470307-d5cc-46cf-89ef-3fd2b1d2927c",
   "metadata": {},
   "outputs": [
    {
     "name": "stdin",
     "output_type": "stream",
     "text": [
      "How many numbers do you want to sum 3\n",
      "Enter a number 12\n",
      "Enter a number 12\n",
      "Enter a number 12\n"
     ]
    },
    {
     "name": "stdout",
     "output_type": "stream",
     "text": [
      "The total is 36.0\n"
     ]
    }
   ],
   "source": [
    "totalNum = int(input(\"How many numbers do you want to sum\"))\n",
    "nums = []\n",
    "\n",
    "for i in range(totalNum):\n",
    "    num = float(input(\"Enter a number\"))\n",
    "    nums.append(num)\n",
    "\n",
    "def sum(nums):\n",
    "    total = 0\n",
    "    for i in range(len(nums)):\n",
    "        total += nums[i]\n",
    "        \n",
    "    print(f\"The total is {total}\")\n",
    "    return total\n",
    "\n",
    "sum(nums)"
   ]
  },
  {
   "cell_type": "markdown",
   "id": "682a588e-c59a-4336-9377-b3d20db5cee3",
   "metadata": {},
   "source": [
    "### 3. Write a Python function to multiply all the numbers in a list"
   ]
  },
  {
   "cell_type": "code",
   "execution_count": 7,
   "id": "cb9a36e5-df7e-4b28-8ce4-df061f6b6404",
   "metadata": {},
   "outputs": [
    {
     "name": "stdin",
     "output_type": "stream",
     "text": [
      "How many numbers do you want to multiply 5\n",
      "Enter a number 8\n",
      "Enter a number 2\n",
      "Enter a number 3\n",
      "Enter a number -1\n",
      "Enter a number 7\n"
     ]
    },
    {
     "name": "stdout",
     "output_type": "stream",
     "text": [
      "The total is -336.0\n"
     ]
    }
   ],
   "source": [
    "totalNum = int(input(\"How many numbers do you want to multiply\"))\n",
    "nums = []\n",
    "\n",
    "for i in range(totalNum):\n",
    "    num = float(input(\"Enter a number\"))\n",
    "    nums.append(num)\n",
    "\n",
    "def multiply(nums):\n",
    "    total = 1\n",
    "    for i in range(len(nums)):\n",
    "        total = total * nums[i]\n",
    "        \n",
    "    print(f\"The total is {total}\")\n",
    "\n",
    "multiply(nums)"
   ]
  },
  {
   "cell_type": "markdown",
   "id": "4ae335bf-4204-459e-803f-dd7ae84eb6c4",
   "metadata": {},
   "source": [
    "### 4. Write a Python program to reverse a string"
   ]
  },
  {
   "cell_type": "code",
   "execution_count": 11,
   "id": "a15d24ca-da72-4589-a608-73876c9f6095",
   "metadata": {},
   "outputs": [
    {
     "name": "stdin",
     "output_type": "stream",
     "text": [
      "Enter a string of text weew\n"
     ]
    },
    {
     "name": "stdout",
     "output_type": "stream",
     "text": [
      "weew\n"
     ]
    },
    {
     "data": {
      "text/plain": [
       "'weew'"
      ]
     },
     "execution_count": 11,
     "metadata": {},
     "output_type": "execute_result"
    }
   ],
   "source": [
    "string = input(\"Enter a string of text\")\n",
    "\n",
    "def stringReverser(string):\n",
    "    newString = \"\"\n",
    "    for i in range(len(string) - 1, -1, -1):\n",
    "        newString += string[i]\n",
    "\n",
    "    print(newString)\n",
    "    return newString\n",
    "\n",
    "stringReverser(string)"
   ]
  },
  {
   "cell_type": "markdown",
   "id": "8ce88785-86cd-4cdf-b7ce-40abaf34348a",
   "metadata": {},
   "source": [
    "### 5. Write a Python function to calculate the factorial of a number"
   ]
  },
  {
   "cell_type": "code",
   "execution_count": 32,
   "id": "ea527ba8-82fc-4cbc-b805-a9d074ea94a8",
   "metadata": {},
   "outputs": [
    {
     "name": "stdin",
     "output_type": "stream",
     "text": [
      "Enter a non-negative number and do not enter zero -3\n"
     ]
    },
    {
     "name": "stdout",
     "output_type": "stream",
     "text": [
      "please enter a valid value\n"
     ]
    },
    {
     "name": "stdin",
     "output_type": "stream",
     "text": [
      "Enter a non-negative number 12\n"
     ]
    },
    {
     "name": "stdout",
     "output_type": "stream",
     "text": [
      "479001600\n"
     ]
    }
   ],
   "source": [
    "num = int(input(\"Enter a non-negative number and do not enter zero\"))\n",
    "\n",
    "def factorialCalc(num):\n",
    "    if num < 1:\n",
    "        print(\"please enter a valid value\")\n",
    "        num = int(input(\"Enter a non-negative number\"))\n",
    "    fact = 1\n",
    "    while num > 0:\n",
    "        fact = fact * num\n",
    "        num -= 1\n",
    "    print(fact)\n",
    "\n",
    "factorialCalc(num)"
   ]
  },
  {
   "cell_type": "markdown",
   "id": "7435416e-786c-47b9-a7c8-0a3b968c8d01",
   "metadata": {},
   "source": [
    "### 6. Write a Python function to check whether a number falls within a given range"
   ]
  },
  {
   "cell_type": "code",
   "execution_count": 36,
   "id": "17c9fb17-a5f4-45ab-ac0d-132292de7652",
   "metadata": {},
   "outputs": [
    {
     "name": "stdin",
     "output_type": "stream",
     "text": [
      "Enter your age 35\n"
     ]
    },
    {
     "name": "stdout",
     "output_type": "stream",
     "text": [
      "You are allowed to enter the competition\n"
     ]
    }
   ],
   "source": [
    "age = int(input(\"Enter your age\"))\n",
    "\n",
    "def ageChecker(age):\n",
    "    if age <  18:\n",
    "        print(f\"Sorry you are {18 - age} year younger than age requirement\")\n",
    "        \n",
    "    elif age > 40:\n",
    "        print(f\"Sorry you are {age - 40} year older than age requirement\")\n",
    "        \n",
    "    else:\n",
    "        print(\"You are allowed to enter the competition\")\n",
    "\n",
    "ageChecker(age)"
   ]
  },
  {
   "cell_type": "markdown",
   "id": "1ed69cbe-958b-4daa-8288-f69cfe148532",
   "metadata": {},
   "source": [
    "### 7. Write a Python function that accepts a string and counts the number of upper and lower case letters"
   ]
  },
  {
   "cell_type": "code",
   "execution_count": 49,
   "id": "026e9525-179f-4269-8756-9bea1e768356",
   "metadata": {},
   "outputs": [
    {
     "name": "stdin",
     "output_type": "stream",
     "text": [
      "Enter a string of text 'The quick Brow Fox'\n"
     ]
    },
    {
     "name": "stdout",
     "output_type": "stream",
     "text": [
      "There are 3 letter in upper case and 12 letter in lower case in the string \"'The quick Brow Fox'\"\n"
     ]
    }
   ],
   "source": [
    "string = input(\"Enter a string of text\")\n",
    "\n",
    "def caseCounter(string):\n",
    "    upper = 0\n",
    "    lower = 0\n",
    "    for i in range(len(string) - 1, -1, -1):\n",
    "        ascii = ord(string[i])\n",
    "        if ascii > 64 and ascii < 91:\n",
    "            upper += 1\n",
    "\n",
    "        elif ascii > 96 and ascii < 123:\n",
    "            lower += 1\n",
    "        \n",
    "    print(f'There are {upper} letter in upper case and {lower} letter in lower case in the string \"{string}\"')\n",
    "\n",
    "caseCounter(string)"
   ]
  },
  {
   "cell_type": "markdown",
   "id": "64e8e700-daf8-4138-9f3f-6102930105d1",
   "metadata": {},
   "source": [
    "### 8. Write a Python function that takes a list and returns a new list with distinct elements from the first list"
   ]
  },
  {
   "cell_type": "code",
   "execution_count": 9,
   "id": "b9134267-6cfa-4e32-8270-8331227ee49b",
   "metadata": {},
   "outputs": [
    {
     "name": "stdin",
     "output_type": "stream",
     "text": [
      "How many numbers do you want to enter 4\n",
      "Enter a number 1\n",
      "Enter a number 2\n",
      "Enter a number 2\n",
      "Enter a number 4\n"
     ]
    },
    {
     "name": "stdout",
     "output_type": "stream",
     "text": [
      "[1, 2, 4]\n"
     ]
    }
   ],
   "source": [
    "totalNum = int(input(\"How many numbers do you want to enter\"))\n",
    "nums = []\n",
    "\n",
    "for i in range(totalNum):\n",
    "    num = int(input(\"Enter a number\"))\n",
    "    nums.append(num)\n",
    "\n",
    "def distinctisizer(nums):\n",
    "    newNums = []\n",
    "    for i in range(len(nums)):\n",
    "        if nums[i] not in newNums:\n",
    "            newNums.append(nums[i])\n",
    "\n",
    "    print(newNums)\n",
    "\n",
    "distinctisizer(nums)"
   ]
  },
  {
   "cell_type": "markdown",
   "id": "5e2a8cad-c71a-4a81-acd0-77c867e89349",
   "metadata": {},
   "source": [
    "### 8. Write a Python function that takes a number as a parameter and checks whether the number is prime or not"
   ]
  },
  {
   "cell_type": "code",
   "execution_count": 32,
   "id": "fc246b0b-b2bc-4413-b290-a3bb9228e402",
   "metadata": {},
   "outputs": [
    {
     "name": "stdin",
     "output_type": "stream",
     "text": [
      "Enter a number 2\n"
     ]
    },
    {
     "name": "stdout",
     "output_type": "stream",
     "text": [
      "2 is not a prime number\n"
     ]
    }
   ],
   "source": [
    "num = int(input(\"Enter a number\"))\n",
    "\n",
    "def primeChecker(num):\n",
    "    for i in range(num//2):\n",
    "        if num % (i + 2) == 0 and i != num:\n",
    "           print(f\"{num} is not a prime number\")\n",
    "           break\n",
    "            \n",
    "        elif i == num//2:\n",
    "            print(f\"{num} is a prime number\")\n",
    "\n",
    "primeChecker(num)"
   ]
  },
  {
   "cell_type": "markdown",
   "id": "c3a6c7b2-78fa-4943-ad21-9505a60ca3c5",
   "metadata": {},
   "source": [
    "### 10. Write a Python program to print the even numbers from a given list"
   ]
  },
  {
   "cell_type": "code",
   "execution_count": 3,
   "id": "2e6f8417-23fa-4212-a1fd-6a437735d150",
   "metadata": {},
   "outputs": [
    {
     "name": "stdin",
     "output_type": "stream",
     "text": [
      "How many numbers do you want to check 5\n",
      "Enter a number 1\n",
      "Enter a number 12\n",
      "Enter a number 134\n",
      "Enter a number 12345\n",
      "Enter a number 1234567\n"
     ]
    },
    {
     "name": "stdout",
     "output_type": "stream",
     "text": [
      "[12, 134]\n"
     ]
    }
   ],
   "source": [
    "totalNum = int(input(\"How many numbers do you want to check\"))\n",
    "nums = []\n",
    "\n",
    "for i in range(totalNum):\n",
    "    num = int(input(\"Enter a number\"))\n",
    "    nums.append(num)\n",
    "\n",
    "def evenChecker(nums):\n",
    "    newNums = []\n",
    "    for i in range(len(nums)):\n",
    "        if nums[i] % 2 == 0:\n",
    "            newNums.append(nums[i])\n",
    "\n",
    "    print(newNums)\n",
    "\n",
    "evenChecker(nums)"
   ]
  },
  {
   "cell_type": "markdown",
   "id": "93eba62e-8670-4aa7-8b96-c84f751dabcb",
   "metadata": {},
   "source": [
    "### 11. Write a Python function to check whether a number is \"Perfect\" or not"
   ]
  },
  {
   "cell_type": "code",
   "execution_count": 8,
   "id": "948d9377-ef53-4bde-8aad-4b9b82b687ea",
   "metadata": {},
   "outputs": [
    {
     "name": "stdin",
     "output_type": "stream",
     "text": [
      "Enter a number 123\n"
     ]
    },
    {
     "name": "stdout",
     "output_type": "stream",
     "text": [
      "123 is not a perfect number\n",
      "[1, 3, 41]\n"
     ]
    }
   ],
   "source": [
    "num = int(input(\"Enter a number\"))\n",
    "\n",
    "def perfectChecker(num):\n",
    "    divisors = []\n",
    "    for i in range(num//2):\n",
    "        if num % (i + 1) == 0 and i != num:\n",
    "            divisors.append(i + 1)\n",
    "\n",
    "    if sum(divisors) == num:\n",
    "        print(f\"{num} is a perfect number\")\n",
    "\n",
    "    else:\n",
    "        print(f\"{num} is not a perfect number\")\n",
    "        \n",
    "    print(divisors)\n",
    "\n",
    "perfectChecker(num)"
   ]
  },
  {
   "cell_type": "markdown",
   "id": "71d357e6-4ff1-45a0-b642-e994d58b09db",
   "metadata": {},
   "source": [
    "### 12. Write a Python function that checks whether a passed string is a palindrome or not"
   ]
  },
  {
   "cell_type": "code",
   "execution_count": 15,
   "id": "23c9bbfd-1a7f-49ad-ad24-e5549159360a",
   "metadata": {},
   "outputs": [
    {
     "name": "stdin",
     "output_type": "stream",
     "text": [
      "Enter a string of text palindrome\n"
     ]
    },
    {
     "name": "stdout",
     "output_type": "stream",
     "text": [
      "emordnilap\n",
      "palindrome is not a palindrome\n"
     ]
    }
   ],
   "source": [
    "string = input(\"Enter a string of text\")\n",
    "\n",
    "def palindromeChecker(string):\n",
    "    if stringReverser(string) == string:\n",
    "        print(f\"{string} is a palindrome\")\n",
    "\n",
    "    else:\n",
    "        print(f\"{string} is not a palindrome\")\n",
    "\n",
    "palindromeChecker(string)"
   ]
  }
 ],
 "metadata": {
  "kernelspec": {
   "display_name": "Python 3 (ipykernel)",
   "language": "python",
   "name": "python3"
  },
  "language_info": {
   "codemirror_mode": {
    "name": "ipython",
    "version": 3
   },
   "file_extension": ".py",
   "mimetype": "text/x-python",
   "name": "python",
   "nbconvert_exporter": "python",
   "pygments_lexer": "ipython3",
   "version": "3.12.7"
  }
 },
 "nbformat": 4,
 "nbformat_minor": 5
}

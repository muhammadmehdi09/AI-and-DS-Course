{
 "cells": [
  {
   "cell_type": "markdown",
   "id": "33e1f772-aea1-476e-a05f-77d96c551f70",
   "metadata": {},
   "source": [
    "# M.M Bank\n",
    "\n",
    "#### Data is stored in (https://docs.google.com/spreadsheets/d/1DmzI7i788ACvQxUqjRzl2WtL-vWvPXbOoWmdiOYbb5w/edit?gid=0#gid=0)\n",
    "##### Paste the following command in an empty python cell and run it to install gspread module:- pip install --upgrade google-api-python-client google-auth-httplib2 google-auth-oauthlib gspread"
   ]
  },
  {
   "cell_type": "code",
   "execution_count": 2,
   "id": "56172e78-530a-48af-8dfa-0efac19b1d59",
   "metadata": {},
   "outputs": [],
   "source": [
    "# Importing the gspread module so that we can use google sheets to store the data\n",
    "import gspread\n",
    "from google.oauth2.service_account import Credentials\n",
    "\n",
    "\n",
    "# Setting the gspread module\n",
    "scopes = [\"https://www.googleapis.com/auth/spreadsheets\"]\n",
    "creds = Credentials.from_service_account_file(\"credentials.json\", scopes = scopes)\n",
    "cliet = gspread.authorize(creds)\n",
    "sheet_id = \"1DmzI7i788ACvQxUqjRzl2WtL-vWvPXbOoWmdiOYbb5w\"\n",
    "workbook = cliet.open_by_key(sheet_id)\n",
    "sheet = workbook.sheet1\n",
    "\n",
    "# Importing the datetime module to record transaction time and date\n",
    "from datetime import *"
   ]
  },
  {
   "cell_type": "code",
   "execution_count": 3,
   "id": "44778f72-f002-4b00-94a1-5463d04dfd56",
   "metadata": {},
   "outputs": [],
   "source": [
    "# Setting the gspread module\n",
    "scopes = [\"https://www.googleapis.com/auth/spreadsheets\"]\n",
    "creds = Credentials.from_service_account_file(\"credentials.json\", scopes = scopes)\n",
    "cliet = gspread.authorize(creds)\n",
    "sheet_id = \"1DmzI7i788ACvQxUqjRzl2WtL-vWvPXbOoWmdiOYbb5w\"\n",
    "workbook = cliet.open_by_key(sheet_id)\n",
    "sheet = workbook.sheet1"
   ]
  },
  {
   "cell_type": "markdown",
   "id": "a8602daf-adc4-4a8e-86f9-ba7a8bfb8a28",
   "metadata": {},
   "source": [
    "## Deposit Function"
   ]
  },
  {
   "cell_type": "code",
   "execution_count": 4,
   "id": "8b7a15cf-3dcb-458c-9bc2-72eb758a122c",
   "metadata": {},
   "outputs": [],
   "source": [
    "def deposit(i):\n",
    "    \n",
    "# Error Handling for type error\n",
    "    try:\n",
    "       depositedAmount = float(input(\"How much money do you want to deposit\"))\n",
    "   \n",
    "       # If user already has an account\n",
    "       if type(i) == int:   \n",
    "            # If user wants to deposit less than 500 an error comes\n",
    "                if depositedAmount < 500:\n",
    "                    print(\"You have to at least deposit 500 rupees\")\n",
    "                    deposit(i)\n",
    "            \n",
    "            # If user deposits a valid amount\n",
    "                if depositedAmount > 500:\n",
    "                    now = datetime.now()\n",
    "                    val = sheet.cell(i + 2, 2).value\n",
    "                    balance = float(val) + depositedAmount\n",
    "                    sheet.update_cell(i + 2, 2, balance)\n",
    "                    transactions = sheet.cell(i + 2, 3).value\n",
    "                    sheet.update_cell(i + 2, 3, transactions + f'{accounts[i]} deposited Rs.{depositedAmount} on {now.strftime(\"%H:%M %B %d, %Y\")} and the balance was Rs.{balance} \\n')\n",
    "                    print(f\"Your Rs.{depositedAmount} have been deposited and Thank you for visiting {accounts[i]}\")\n",
    "   \n",
    "   # If account is not already present\n",
    "       else:\n",
    "       # If user wants to deposit less than 500 an error comes\n",
    "           if depositedAmount < 500:\n",
    "               print(\"You have to at least deposit 500 rupees\")\n",
    "               deposit(i)\n",
    "   \n",
    "       # If user deposits valid amount it appends another account with the deposited balance\n",
    "           if depositedAmount > 500:\n",
    "               now = datetime.now()\n",
    "               sheet.update_cell(len(accounts) + 2, 1, i)\n",
    "               sheet.update_cell(len(accounts) + 2, 2, depositedAmount)\n",
    "               sheet.update_cell(len(accounts) + 2, 3, f\"\"\"{i}'s account was created on {now.strftime(\"%H:%M %B %d, %Y\")} and the balance was Rs.{depositedAmount}\\n\"\"\")\n",
    "               print(f\"Your Rs.{depositedAmount} have been deposited and Thank you for visiting {i}\")\n",
    "\n",
    "    except:\n",
    "        print(\"Please enter a valid deposit value\")\n",
    "        deposit(i)"
   ]
  },
  {
   "cell_type": "markdown",
   "id": "6c1b77f0-c283-4a94-b72e-84b0faef151b",
   "metadata": {},
   "source": [
    "## Withdraw Function"
   ]
  },
  {
   "cell_type": "code",
   "execution_count": 5,
   "id": "774751fb-5e47-4298-bef5-bbf92d85dd2e",
   "metadata": {},
   "outputs": [],
   "source": [
    "def withdraw(i):\n",
    "    \n",
    "# Error Handling for type error\n",
    "    try:\n",
    "        balance = float(sheet.cell(i + 2, 2).value)\n",
    "        \n",
    "    # If you user has no balance an error comes\n",
    "        if balance < 500:\n",
    "            print(\"Sorry you can't withdraw as your account has insufficient funds\")\n",
    "    \n",
    "        else:\n",
    "            withdrawedAmount = float(input(\"How much money do you want to withdraw\"))\n",
    "            \n",
    "        # If user wants to withdraw less than 500 an error comes \n",
    "            if withdrawedAmount < 500:\n",
    "                print(\"You have to at least withsraw 500 rupees\")\n",
    "                withdraw(i)\n",
    "        \n",
    "        # If user wants to withdraw more than current balance an error comes \n",
    "            elif withdrawedAmount > balance:\n",
    "                print(\"You do not have enough balance\")\n",
    "                withdraw(i)\n",
    "        \n",
    "        # If user is withdrawing a valid amount\n",
    "            else:\n",
    "                now = datetime.now()\n",
    "                balance -= withdrawedAmount\n",
    "                sheet.update_cell(i + 2, 2, balance)\n",
    "                transactions = sheet.cell(i + 2, 3).value\n",
    "                sheet.update_cell(i + 2, 3, transactions + f'{accounts[i]} withdrawed Rs.{withdrawedAmount} on {now.strftime(\"%H:%M %B %d, %Y\")} and the balance was Rs.{balance} \\n')\n",
    "                print(f\"Here are your Rs.{withdrawedAmount} and Thank you for visiting {accounts[i]}\")\n",
    "\n",
    "    except:\n",
    "        print(\"Please enter a valid withdrawal value\")\n",
    "        withdraw(i)"
   ]
  },
  {
   "cell_type": "markdown",
   "id": "55fba09f-5ec6-42a0-9e84-dc27c76cd999",
   "metadata": {},
   "source": [
    "## Check Transaction History Function"
   ]
  },
  {
   "cell_type": "code",
   "execution_count": 6,
   "id": "d94ae5de-b808-4bb4-b8e5-2f2791883206",
   "metadata": {},
   "outputs": [],
   "source": [
    "def checkTransactionHistory(i):\n",
    "    print(sheet.cell(i + 2, 3).value)"
   ]
  },
  {
   "cell_type": "markdown",
   "id": "5cd9e21b-39ce-4839-bbf3-a320cfbbf257",
   "metadata": {},
   "source": [
    "## Check Balance Function"
   ]
  },
  {
   "cell_type": "code",
   "execution_count": 7,
   "id": "e0770554-fb9e-4583-83dc-5664a9b0f487",
   "metadata": {},
   "outputs": [],
   "source": [
    "def checkBalance(i):\n",
    "   print(f\"Your current balance is Rs.{sheet.cell(i + 2, 2).value}\")"
   ]
  },
  {
   "cell_type": "markdown",
   "id": "f6ccd189-7935-45c2-a4a4-9b02a0677c99",
   "metadata": {},
   "source": [
    "## Decider Function"
   ]
  },
  {
   "cell_type": "code",
   "execution_count": 8,
   "id": "218d8ece-f382-493f-af90-1a904357b420",
   "metadata": {},
   "outputs": [],
   "source": [
    "def decider(i):\n",
    "    res = input(\"Do you want to deposit[d], withdraw[w], check transaction history[t] or check balance[b]\")\n",
    "        \n",
    "# If user wants to deposit\n",
    "    if res == \"deposit\" or res == \"d\" or res == \"D\":\n",
    "        deposit(i)\n",
    "        \n",
    "# If user wants to withdraw\n",
    "    elif res == \"withdraw\" or res == \"w\" or res == \"W\":\n",
    "        withdraw(i)\n",
    "\n",
    "# If user wants to check balance\n",
    "    elif res == \"check balance\" or res == \"b\" or res == \"B\":\n",
    "        checkBalance(i)\n",
    "\n",
    "# If user wants to check transaction history\n",
    "    elif res == \"check transaction history\" or res == \"t\" or res == \"T\":\n",
    "        checkTransactionHistory(i)\n",
    "\n",
    "# If user doesn't choose any of the given options\n",
    "    else:\n",
    "        print(\"Write deposit[d], withdraw[w], check transaction history[t] or check balance[b]\")\n",
    "        decider(i)\n",
    "            "
   ]
  },
  {
   "cell_type": "markdown",
   "id": "d26c5087-721f-4d5d-a4b3-ebde3913b6ad",
   "metadata": {},
   "source": [
    "## Main Function"
   ]
  },
  {
   "cell_type": "code",
   "execution_count": 12,
   "id": "f0cf15f3-9413-4cea-82e0-386a744804a0",
   "metadata": {},
   "outputs": [
    {
     "name": "stdin",
     "output_type": "stream",
     "text": [
      "What is your full name? Rahul Gandhi\n",
      "Do you want to deposit[d], withdraw[w], check transaction history[t] or check balance[b] t\n"
     ]
    },
    {
     "name": "stdout",
     "output_type": "stream",
     "text": [
      "Rahul Gandhi's account was created on 16:54 January 02, 2025 and the balance was Rs.1000.0\n",
      "Rahul Gandhi deposited Rs.7500.0 on 16:54 January 02, 2025 and the balance was Rs.8500.0 \n",
      "Rahul Gandhi withdrawed Rs.8500.0 on 16:55 January 02, 2025 and the balance was Rs.0.0 \n",
      "\n"
     ]
    }
   ],
   "source": [
    "# Creting accounts list using google sheets data\n",
    "accounts = sheet.col_values(1)\n",
    "accounts.remove(\"Names\")\n",
    "\n",
    "# Creating a main function\n",
    "def main():        \n",
    "    name = input(\"What is your full name?\")\n",
    "    # Loop that checks if the given name is present in accounts\n",
    "    for i in range(len(accounts)):\n",
    "    \n",
    "    # If name is present in accounts\n",
    "        if accounts[i].lower() == name.lower():\n",
    "            decider(i)\n",
    "            break\n",
    "            \n",
    "    # If name is not present in accounts    \n",
    "        elif len(accounts) - 1 == i:\n",
    "            # As the account is new there is no balance or transactions so user can only deposit\n",
    "            res = input(f\"Your account has been created {name}. Do you want do deposit money? Answer yes or no\")\n",
    "            \n",
    "            if res == \"yes\":\n",
    "                deposit(name)\n",
    "                \n",
    "            else:\n",
    "                now = datetime.now()\n",
    "                sheet.update_cell(len(accounts) + 2, 1, name)\n",
    "                sheet.update_cell(len(accounts) + 2, 2, 0)\n",
    "                sheet.update_cell(len(accounts) + 2, 3, f\"\"\"{name}'s account was created on {now.strftime(\"%H:%M %B %d, %Y\")} and the balance was Rs.0.0\\n\"\"\")\n",
    "                print(f\"Thank you for visiting {name}\")\n",
    "main()"
   ]
  },
  {
   "cell_type": "markdown",
   "id": "5f9a21f2-7a5e-4dac-99f2-5d32886c5ae3",
   "metadata": {},
   "source": [
    "## Function that gets all accounts data"
   ]
  },
  {
   "cell_type": "code",
   "execution_count": null,
   "id": "3636bba4-d308-42a0-9f72-27b73081e784",
   "metadata": {},
   "outputs": [],
   "source": [
    "def getAccounts():\n",
    "    accounts = sheet.col_values(1)\n",
    "    accounts.remove(\"Names\")\n",
    "    for i in range(len(accounts)):\n",
    "        accountData = sheet.row_values(i + 2)\n",
    "        print(f\"\"\"Name: {accountData[0]} \\nBalance: {accountData[1]} \\nTransactions: \\n{accountData[2]}\n",
    "\"\"\")\n",
    "\n",
    "getAccounts()"
   ]
  },
  {
   "cell_type": "code",
   "execution_count": null,
   "id": "2fab2b1b-51b8-4564-ad4d-6ba4a02e50ce",
   "metadata": {},
   "outputs": [],
   "source": [
    "pip install --upgrade google-api-python-client google-auth-httplib2 google-auth-oauthlib gspread"
   ]
  }
 ],
 "metadata": {
  "kernelspec": {
   "display_name": "Python 3 (ipykernel)",
   "language": "python",
   "name": "python3"
  },
  "language_info": {
   "codemirror_mode": {
    "name": "ipython",
    "version": 3
   },
   "file_extension": ".py",
   "mimetype": "text/x-python",
   "name": "python",
   "nbconvert_exporter": "python",
   "pygments_lexer": "ipython3",
   "version": "3.12.7"
  }
 },
 "nbformat": 4,
 "nbformat_minor": 5
}

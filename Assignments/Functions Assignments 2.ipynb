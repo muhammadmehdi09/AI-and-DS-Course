{
 "cells": [
  {
   "cell_type": "markdown",
   "id": "03a1120f-7add-4d77-9df7-663a4625e96e",
   "metadata": {},
   "source": [
    "#### Task1: You need to write a function in python that return all such numbers which are divisible by 7 but are not a multiple of 5\n"
   ]
  },
  {
   "cell_type": "code",
   "execution_count": 2,
   "id": "216a7998-cbc6-4f5a-9a46-5c87807919af",
   "metadata": {},
   "outputs": [
    {
     "name": "stdin",
     "output_type": "stream",
     "text": [
      "Enter the first number 1\n",
      "Enter the second number 1000\n"
     ]
    },
    {
     "name": "stdout",
     "output_type": "stream",
     "text": [
      "7, 14, 21, 28, 42, 49, 56, 63, 77, 84, 91, 98, 112, 119, 126, 133, 147, 154, 161, 168, 182, 189, 196, 203, 217, 224, 231, 238, 252, 259, 266, 273, 287, 294, 301, 308, 322, 329, 336, 343, 357, 364, 371, 378, 392, 399, 406, 413, 427, 434, 441, 448, 462, 469, 476, 483, 497, 504, 511, 518, 532, 539, 546, 553, 567, 574, 581, 588, 602, 609, 616, 623, 637, 644, 651, 658, 672, 679, 686, 693, 707, 714, 721, 728, 742, 749, 756, 763, 777, 784, 791, 798, 812, 819, 826, 833, 847, 854, 861, 868, 882, 889, 896, 903, 917, 924, 931, 938, 952, 959, 966, 973, 987, 994, "
     ]
    }
   ],
   "source": [
    "num1 = int(input(\"Enter the first number\"))\n",
    "num2 = int(input(\"Enter the second number\"))\n",
    "\n",
    "def numFunc(a = 2000, b = 3200):\n",
    "    nums = []\n",
    "    for i in range(a, b + 1, 1):\n",
    "        if i % 7 == 0 and i % 5 != 0:\n",
    "            nums.append(i)\n",
    "            \n",
    "    for i in range(len(nums)):\n",
    "        print(nums[i], end=\", \")\n",
    "\n",
    "numFunc(num1, num2)"
   ]
  },
  {
   "cell_type": "markdown",
   "id": "d91665a8-de52-4cf3-b576-da6182a4436d",
   "metadata": {},
   "source": [
    "#### Task2: You need code a function that calculates and returns the value according to the given formula: P = Square root of [(2 * A * B)/C] Following are the fixed values of A and B: A is 50. B is 30. \n"
   ]
  },
  {
   "cell_type": "code",
   "execution_count": 12,
   "id": "23513031-279a-4b3b-8586-a58ec57df129",
   "metadata": {},
   "outputs": [
    {
     "name": "stdin",
     "output_type": "stream",
     "text": [
      "Enter a list of numbers seperated by commas 100,150,180\n"
     ]
    },
    {
     "name": "stdout",
     "output_type": "stream",
     "text": [
      "5.477225575051661, 4.47213595499958, 4.08248290463863, "
     ]
    }
   ],
   "source": [
    "import math\n",
    "nums = input (\"Enter a list of numbers seperated by commas\").split(\",\")\n",
    "\n",
    "def formulaCalc(nums):\n",
    "    newNums = []\n",
    "    A = 50\n",
    "    B = 30\n",
    "    for i in range(len(nums)):\n",
    "        C = int(nums[i])\n",
    "        num = ((2 * A * B)/C) ** 0.5\n",
    "        newNums.append(num)\n",
    "\n",
    "    for i in range(len(newNums)):\n",
    "        print(newNums[i], end=\", \")\n",
    "\n",
    "formulaCalc(nums)"
   ]
  },
  {
   "cell_type": "code",
   "execution_count": null,
   "id": "41521782-7291-4557-a3f4-cd858c26b3f3",
   "metadata": {},
   "outputs": [],
   "source": []
  }
 ],
 "metadata": {
  "kernelspec": {
   "display_name": "Python 3 (ipykernel)",
   "language": "python",
   "name": "python3"
  },
  "language_info": {
   "codemirror_mode": {
    "name": "ipython",
    "version": 3
   },
   "file_extension": ".py",
   "mimetype": "text/x-python",
   "name": "python",
   "nbconvert_exporter": "python",
   "pygments_lexer": "ipython3",
   "version": "3.12.7"
  }
 },
 "nbformat": 4,
 "nbformat_minor": 5
}

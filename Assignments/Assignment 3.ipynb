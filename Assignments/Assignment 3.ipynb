{
 "cells": [
  {
   "cell_type": "markdown",
   "metadata": {},
   "source": [
    "## A- Discounts and Pricing"
   ]
  },
  {
   "cell_type": "markdown",
   "metadata": {},
   "source": [
    "### 1. Check Discount Eligibility"
   ]
  },
  {
   "cell_type": "code",
   "execution_count": 4,
   "metadata": {},
   "outputs": [
    {
     "name": "stdout",
     "output_type": "stream",
     "text": [
      "The total price is $100.0 but if you spend over $100 you can avail a ten percent discount\n"
     ]
    }
   ],
   "source": [
    "totalPrice = float(input(\"What is the total price of purschased items \"))\n",
    "\n",
    "if totalPrice > 100:\n",
    "    print(f\"Congradulations you get a ten percent discount and the final price is ${totalPrice * 9 / 10}\")\n",
    "    \n",
    "else:\n",
    "    print(f\"The total price is ${totalPrice} but if you spend over $100 you can avail a ten percent discount\")"
   ]
  },
  {
   "cell_type": "markdown",
   "metadata": {},
   "source": [
    "### 2. Calculate Bulk Discount"
   ]
  },
  {
   "cell_type": "code",
   "execution_count": 3,
   "metadata": {},
   "outputs": [
    {
     "name": "stdout",
     "output_type": "stream",
     "text": [
      "The total price is $60 but if you buy more than five pens you get fifteen percent bulk discount\n"
     ]
    }
   ],
   "source": [
    "totalPens = int(input(\"How many pens to you want to buy, the price of one penis Rs.20 \"))\n",
    "totalPrice = totalPens * 20\n",
    "\n",
    "if totalPens > 5:\n",
    "    print(f\"Congradulations you get a fifteen percent discount and the final price is Rs.{totalPrice * 8.5 / 10}\")\n",
    "    \n",
    "else:\n",
    "    print(f\"The total price is Rs.{totalPrice} but if you buy more than five pens you get fifteen percent bulk discount\")"
   ]
  },
  {
   "cell_type": "markdown",
   "metadata": {},
   "source": [
    "### 3. Membership Discount"
   ]
  },
  {
   "cell_type": "code",
   "execution_count": 1,
   "metadata": {},
   "outputs": [
    {
     "name": "stdin",
     "output_type": "stream",
     "text": [
      "What is the total price of purschased items  1000\n",
      "What is your name  Ali Mehdi\n"
     ]
    },
    {
     "name": "stdout",
     "output_type": "stream",
     "text": [
      "The total price is ₹1000.0 but if you enroll as a member you will get twenty percent discount\n"
     ]
    }
   ],
   "source": [
    "members = [\"Ashir\", \"Nasir\", \"Ali\", \"Muhammad\", \"Mehdi\", \"Aman\", \"Hussain\"]\n",
    "totalPrice = float(input(\"What is the total price of purschased items \"))\n",
    "name = input(\"What is your name \")\n",
    "\n",
    "if name in members:\n",
    "    print(f\"As you are a member you get a discount and the final price is ₹{totalPrice * 8 / 10}\")\n",
    "    \n",
    "else:\n",
    "    print(f\"The total price is ₹{totalPrice} but if you enroll as a member you will get twenty percent discount\")"
   ]
  },
  {
   "cell_type": "markdown",
   "metadata": {},
   "source": [
    "### 4. Seasonal Sale"
   ]
  },
  {
   "cell_type": "code",
   "execution_count": 13,
   "metadata": {},
   "outputs": [
    {
     "name": "stdout",
     "output_type": "stream",
     "text": [
      "Congradulations you get a discount and the final price is £9.0\n"
     ]
    }
   ],
   "source": [
    "totalPrice = float(input(\"What is the total price of purschased items \"))\n",
    "onHoliday = input(\"Are you on a holiday. Answer yes or no \")\n",
    "\n",
    "if onHoliday == \"yes\":\n",
    "    print(f\"Congradulations you get a discount and the final price is ₣{totalPrice * 7.5 / 10}\")\n",
    "    \n",
    "else:\n",
    "    print(f\"The total price is ₣{totalPrice * 9 / 10}\")"
   ]
  },
  {
   "cell_type": "markdown",
   "metadata": {},
   "source": [
    "### 5. Buy-One-Get-One-Free"
   ]
  },
  {
   "cell_type": "code",
   "execution_count": 12,
   "metadata": {},
   "outputs": [
    {
     "name": "stdout",
     "output_type": "stream",
     "text": [
      "If you buy one more you get 6 of them for free\n"
     ]
    }
   ],
   "source": [
    "totalBooks = int(input(\"How many books to you want to buy \"))\n",
    "\n",
    "if totalBooks % 2 == 0:\n",
    "    print(f\"You get {totalBooks // 2} of the books free\")\n",
    "    \n",
    "else:\n",
    "    print(f\"If you buy one more you can get {totalBooks // 2 +1} of them for free\")"
   ]
  },
  {
   "cell_type": "markdown",
   "metadata": {},
   "source": [
    "## B- Tax Calculations"
   ]
  },
  {
   "cell_type": "markdown",
   "metadata": {},
   "source": [
    "### 6. Sales Tax"
   ]
  },
  {
   "cell_type": "code",
   "execution_count": 2,
   "metadata": {},
   "outputs": [
    {
     "name": "stdin",
     "output_type": "stream",
     "text": [
      "What is the total price of the purschased item  12000\n"
     ]
    },
    {
     "name": "stdout",
     "output_type": "stream",
     "text": [
      "As you are exceeding more than £500 you get fifteen percent luxury tax and the final price is £13799.999999999998\n"
     ]
    }
   ],
   "source": [
    "totalPrice = float(input(\"What is the total price of the purschased item \"))\n",
    "\n",
    "if totalPrice > 500:\n",
    "    print(f\"As you are exceeding more than £500 you get fifteen percent luxury tax and the final price is £{totalPrice * 1.15}\")\n",
    "    \n",
    "else:\n",
    "    print(f\"The total price after tax is £{totalPrice * 1.09}\")"
   ]
  },
  {
   "cell_type": "markdown",
   "metadata": {},
   "source": [
    "### 7. Income Tax"
   ]
  },
  {
   "cell_type": "code",
   "execution_count": 4,
   "metadata": {},
   "outputs": [
    {
     "name": "stdin",
     "output_type": "stream",
     "text": [
      "What is your annual income  4900\n"
     ]
    },
    {
     "name": "stdout",
     "output_type": "stream",
     "text": [
      "The total price after tax is €490.0\n"
     ]
    }
   ],
   "source": [
    "income = float(input(\"What is your annual income \"))\n",
    "\n",
    "if income > 50000:\n",
    "    print(f\"You have to pay €{income * 0.2}\")\n",
    "    \n",
    "else:\n",
    "    print(f\"The total price after tax is €{income * 0.1}\")"
   ]
  },
  {
   "cell_type": "markdown",
   "metadata": {},
   "source": [
    "### 8. Tax Bracket"
   ]
  },
  {
   "cell_type": "code",
   "execution_count": 6,
   "metadata": {},
   "outputs": [
    {
     "name": "stdin",
     "output_type": "stream",
     "text": [
      "What is your annual income  122222222\n"
     ]
    },
    {
     "name": "stdout",
     "output_type": "stream",
     "text": [
      "You have to pay High Tax\n"
     ]
    }
   ],
   "source": [
    "income = float(input(\"What is your annual income \"))\n",
    "\n",
    "if income < 30000:\n",
    "    print(\"You have to pay Low Tax\")\n",
    "    \n",
    "elif income < 100000:\n",
    "    print(\"You have to pay Medium Tax\")\n",
    "\n",
    "else:\n",
    "    print(\"You have to pay High Tax\")"
   ]
  },
  {
   "cell_type": "markdown",
   "metadata": {},
   "source": [
    "### 9. VAT Calculation"
   ]
  },
  {
   "cell_type": "code",
   "execution_count": null,
   "metadata": {},
   "outputs": [],
   "source": [
    "totalPrice = float(input(\"What is the total price of the purschased item \"))\n",
    "isEssential = input(\"Is the purchased item marked as essential. Answer yes or no\")\n",
    "\n",
    "if isEssential == yes:\n",
    "    print(f\"The final price after tax is ¥{totalPrice * 1.05}\")\n",
    "    \n",
    "else:\n",
    "    print(f\"The final price after tax is ¥{totalPrice * 1.12}\")"
   ]
  },
  {
   "cell_type": "markdown",
   "metadata": {},
   "source": [
    "### 10. Tax-Free Day"
   ]
  },
  {
   "cell_type": "code",
   "execution_count": null,
   "metadata": {},
   "outputs": [],
   "source": [
    "taxFreeDays = [\"Saturday\", \"Sunday\"]\n",
    "totalPrice = float(input(\"What is the total price of the purschased items \"))\n",
    "day = input(\"What is the day today? \")\n",
    "\n",
    "if day in taxFreeDays:\n",
    "    print(f\"There is no tax today so the total price is still ₼{totalPrice}\")\n",
    "\n",
    "else:\n",
    "    print(f\"The final price after tax is ₼{totalPrice * 1.07}\")"
   ]
  },
  {
   "cell_type": "markdown",
   "metadata": {},
   "source": [
    "## C- Shopping and Billing"
   ]
  },
  {
   "cell_type": "markdown",
   "metadata": {},
   "source": [
    "### 11. Free Shipping"
   ]
  },
  {
   "cell_type": "code",
   "execution_count": 9,
   "metadata": {},
   "outputs": [
    {
     "name": "stdin",
     "output_type": "stream",
     "text": [
      "What is the total price of the purschased items  123\n"
     ]
    },
    {
     "name": "stdout",
     "output_type": "stream",
     "text": [
      "As you are spending more than Br 50 you get free shipping and the final price is Br 123.0\n"
     ]
    }
   ],
   "source": [
    "totalPrice = float(input(\"What is the total price of the purschased items \"))\n",
    "\n",
    "if totalPrice > 50:\n",
    "    print(f\"As you are spending more than Br 50 you get free shipping and the final price is Br {totalPrice}\")\n",
    "    \n",
    "else:\n",
    "    print(f\"The total price after shipping is Br {totalPrice + 5}\")"
   ]
  },
  {
   "cell_type": "markdown",
   "metadata": {},
   "source": [
    "### 12. Discount Code"
   ]
  },
  {
   "cell_type": "code",
   "execution_count": null,
   "metadata": {},
   "outputs": [],
   "source": [
    "res = input(\"Enter the voucher\")\n",
    "totalPrice = float(input(\"What is the total price of the purschased items \"))\n",
    "\n",
    "if voucher == \"DISCOUNT10\":\n",
    "    print(f\"You get a discount of 10% and the final price is ден{totalPrice}\")\n",
    "\n",
    "else:\n",
    "    print(f\"The voucher is invalid and the final price is still ден{totalPrice}\")"
   ]
  },
  {
   "cell_type": "markdown",
   "metadata": {},
   "source": [
    "### 13. Tiered Discounts"
   ]
  },
  {
   "cell_type": "code",
   "execution_count": 6,
   "metadata": {},
   "outputs": [
    {
     "name": "stdin",
     "output_type": "stream",
     "text": [
      "What is the total price of purschased items  120\n"
     ]
    },
    {
     "name": "stdout",
     "output_type": "stream",
     "text": [
      "As you are spending more than $100 you get a discount and the final price is $96.0\n"
     ]
    }
   ],
   "source": [
    "totalPrice = float(input(\"What is the total price of purschased items \"))\n",
    "\n",
    "if totalPrice >= 50 and totalPrice < 100:\n",
    "    print(f\"As you are spending more than $50 you get a discount and the final price is ${totalPrice * 9 / 10}\")\n",
    "\n",
    "elif totalPrice >= 100:\n",
    "    print(f\"As you are spending more than $100 you get a discount and the final price is ${totalPrice * 8 / 10}\")\n",
    "\n",
    "else:\n",
    "    print(f\"The total price is ${totalPrice} but if you spend more than $50 you can get a discount\")"
   ]
  },
  {
   "cell_type": "markdown",
   "metadata": {},
   "source": [
    "### 14. Minimum Purchase Requirement"
   ]
  },
  {
   "cell_type": "code",
   "execution_count": 8,
   "metadata": {},
   "outputs": [
    {
     "name": "stdin",
     "output_type": "stream",
     "text": [
      "What is the total price of purschased items  1234\n"
     ]
    },
    {
     "name": "stdout",
     "output_type": "stream",
     "text": [
      "The total price is $1234.0\n"
     ]
    }
   ],
   "source": [
    "totalPrice = float(input(\"What is the total price of purschased items \"))\n",
    "\n",
    "if totalPrice < 200:\n",
    "    print(f\"You have to atleast spend $200\")\n",
    "\n",
    "else:\n",
    "    print(f\"The total price is ${totalPrice}\")"
   ]
  },
  {
   "cell_type": "markdown",
   "metadata": {},
   "source": [
    "### 15. Loyalty Points"
   ]
  },
  {
   "cell_type": "code",
   "execution_count": 15,
   "metadata": {},
   "outputs": [
    {
     "name": "stdin",
     "output_type": "stream",
     "text": [
      "What is the total price of purschased items  10000\n",
      "What is your name  Ashir\n"
     ]
    },
    {
     "name": "stdout",
     "output_type": "stream",
     "text": [
      "As you are a loyal you get a double loyalty points: 666.0\n"
     ]
    }
   ],
   "source": [
    "loyals = [\"Ashir\", \"Nasir\", \"Ali\", \"Muhammad\", \"Mehdi\", \"Aman\", \"Hussain\"]\n",
    "totalPrice = float(input(\"What is the total price of purschased items \"))\n",
    "name = input(\"What is your name \")\n",
    "\n",
    "if name in loyals:\n",
    "    print(f\"As you are a loyal you get a double loyalty points: {totalPrice * 2 // 30}\")\n",
    "    \n",
    "else:\n",
    "    print(f\"You earned {totalPrice // 30} loyalty points\")"
   ]
  },
  {
   "cell_type": "markdown",
   "metadata": {},
   "source": [
    "## D- Travel and Tickets"
   ]
  },
  {
   "cell_type": "markdown",
   "metadata": {},
   "source": [
    "### 16. Travel Discount"
   ]
  },
  {
   "cell_type": "code",
   "execution_count": 18,
   "metadata": {},
   "outputs": [
    {
     "name": "stdin",
     "output_type": "stream",
     "text": [
      "How far do you intend to travel in miles 501\n"
     ]
    },
    {
     "name": "stdout",
     "output_type": "stream",
     "text": [
      "As you are travelling more than 500 miles you get a discount and the final price is $200.4\n"
     ]
    }
   ],
   "source": [
    "distance = float(input(\"How far do you intend to travel in miles\"))\n",
    "\n",
    "if distance > 500:\n",
    "    print(f\"As you are travelling more than 500 miles you get a discount and the final price is ${distance *  0.4}\")\n",
    "    \n",
    "else:\n",
    "    print(f\"The final price is ${distance *  0.5}\")"
   ]
  },
  {
   "cell_type": "markdown",
   "metadata": {},
   "source": [
    "### 17. Child or Senior Discount\n"
   ]
  },
  {
   "cell_type": "code",
   "execution_count": 23,
   "metadata": {},
   "outputs": [
    {
     "name": "stdin",
     "output_type": "stream",
     "text": [
      "How far do you intend to travel in miles 123\n",
      "What is your age 65\n"
     ]
    },
    {
     "name": "stdout",
     "output_type": "stream",
     "text": [
      "The final price is $52.275\n"
     ]
    }
   ],
   "source": [
    "distance = float(input(\"How far do you intend to travel in miles\"))\n",
    "age = int(input(\"What is your age\"))\n",
    "\n",
    "if age < 12 or age > 60:\n",
    "    print(f\"The final price is ${distance * 0.425}\")\n",
    "    \n",
    "else:\n",
    "    print(f\"The final price is ${distance * 0.5}\")"
   ]
  },
  {
   "cell_type": "markdown",
   "metadata": {},
   "source": [
    "### 18. Ticket Type Pricing\n"
   ]
  },
  {
   "cell_type": "code",
   "execution_count": null,
   "metadata": {},
   "outputs": [],
   "source": [
    "distance = float(input(\"How far do you intend to travel in miles\"))\n",
    "day = input(\"Are you travelling on weekend or weekday?\")\n",
    "\n",
    "if day == \"weekend\":\n",
    "    print(f\"The final price is ${distance * 0.55}\")\n",
    "    \n",
    "else:\n",
    "    print(f\"The final price is ${distance * 0.5}\")"
   ]
  },
  {
   "cell_type": "markdown",
   "metadata": {},
   "source": [
    "### 19. Baggage Fee\n"
   ]
  },
  {
   "cell_type": "code",
   "execution_count": null,
   "metadata": {},
   "outputs": [],
   "source": [
    "weight = int(input(\"What is the weight of your total baggage\"))\n",
    "\n",
    "if weight > 20:\n",
    "    print(f\"As the weight is more than 20 kg the extra cost for your baggage is ${(weight - 20) * 10}\")\n",
    "    \n",
    "else:\n",
    "    print(f\"As the weight is less than 20 kg there is no extra cost for your baggage\")"
   ]
  },
  {
   "cell_type": "markdown",
   "metadata": {},
   "source": [
    "### 20. Early Bird Discount"
   ]
  },
  {
   "cell_type": "code",
   "execution_count": 25,
   "metadata": {},
   "outputs": [
    {
     "name": "stdin",
     "output_type": "stream",
     "text": [
      "How far do you intend to travel in miles 100\n",
      "In how many days is your flight 34\n"
     ]
    },
    {
     "name": "stdout",
     "output_type": "stream",
     "text": [
      "The final price is $45.0\n"
     ]
    }
   ],
   "source": [
    "distance = float(input(\"How far do you intend to travel in miles\"))\n",
    "days = int(input(\"In how many days is your flight\"))\n",
    "\n",
    "if days > 30:\n",
    "    print(f\"The final price is ${distance * 0.45}\")\n",
    "    \n",
    "else:\n",
    "    print(f\"The final price is ${distance * 0.5}\")"
   ]
  },
  {
   "cell_type": "markdown",
   "metadata": {},
   "source": [
    "## E- Grades and Performance"
   ]
  },
  {
   "cell_type": "markdown",
   "metadata": {},
   "source": [
    "### 21. Pass or Fail\n"
   ]
  },
  {
   "cell_type": "code",
   "execution_count": 27,
   "metadata": {},
   "outputs": [
    {
     "name": "stdin",
     "output_type": "stream",
     "text": [
      "What are your total marks? 12\n"
     ]
    },
    {
     "name": "stdout",
     "output_type": "stream",
     "text": [
      "You fail\n"
     ]
    }
   ],
   "source": [
    "totalMarks = int(input(\"What are your total marks?\"))\n",
    "\n",
    "if totalMarks >= 40:\n",
    "    print(\"You pass\")\n",
    "\n",
    "else:\n",
    "    print(\"You fail\")"
   ]
  },
  {
   "cell_type": "markdown",
   "metadata": {},
   "source": [
    "### 22. Grade Assignment\n"
   ]
  },
  {
   "cell_type": "code",
   "execution_count": 34,
   "metadata": {},
   "outputs": [
    {
     "name": "stdin",
     "output_type": "stream",
     "text": [
      "What are your total marks? 49\n"
     ]
    },
    {
     "name": "stdout",
     "output_type": "stream",
     "text": [
      "You got an F\n"
     ]
    }
   ],
   "source": [
    "totalMarks = int(input(\"What are your total marks?\"))\n",
    "\n",
    "if totalMarks >= 90:\n",
    "    print(\"You got an A\")\n",
    "    \n",
    "elif totalMarks >= 75:\n",
    "    print(\"You got a B\")\n",
    "\n",
    "elif totalMarks >= 50:\n",
    "    print(\"You got a C\")\n",
    "\n",
    "else:\n",
    "    print(\"You got an F\")"
   ]
  },
  {
   "cell_type": "markdown",
   "metadata": {},
   "source": [
    "### 23. Bonus Marks\n"
   ]
  },
  {
   "cell_type": "code",
   "execution_count": 37,
   "metadata": {},
   "outputs": [
    {
     "name": "stdin",
     "output_type": "stream",
     "text": [
      "How many assignments have you done out of 5 3\n"
     ]
    },
    {
     "name": "stdout",
     "output_type": "stream",
     "text": [
      "If you complete all your assignments you can get 5 bonus points\n"
     ]
    }
   ],
   "source": [
    "assignments = int(input(\"How many assignments have you done out of 5\"))\n",
    "\n",
    "if assignments > 5:\n",
    "    print(\"The maximum answer possible is 5\")\n",
    "\n",
    "elif assignments == 5:\n",
    "    print(\"You get 5 bonus marks for completing all assingments\")\n",
    "\n",
    "else:\n",
    "    print(\"If you complete all your assignments you can get 5 bonus points\")"
   ]
  },
  {
   "cell_type": "markdown",
   "metadata": {},
   "source": [
    "### 24. Attendance Eligibility\n"
   ]
  },
  {
   "cell_type": "code",
   "execution_count": 39,
   "metadata": {},
   "outputs": [
    {
     "name": "stdin",
     "output_type": "stream",
     "text": [
      "What is your attendance rate 94\n"
     ]
    },
    {
     "name": "stdout",
     "output_type": "stream",
     "text": [
      "You are allowed to take the exam\n"
     ]
    }
   ],
   "source": [
    "attendanceRate = float(input(\"What is your attendance rate\"))\n",
    "\n",
    "if attendanceRate >= 75:\n",
    "    print(\"You are allowed to take the exam\")\n",
    "\n",
    "else:\n",
    "    print(\"You are not allowed to take the exam\")"
   ]
  },
  {
   "cell_type": "markdown",
   "metadata": {},
   "source": [
    "### 25. Scholarship Eligibility"
   ]
  },
  {
   "cell_type": "code",
   "execution_count": 43,
   "metadata": {},
   "outputs": [
    {
     "name": "stdin",
     "output_type": "stream",
     "text": [
      "What is your annual income  20500\n",
      "What is your grade  A\n"
     ]
    },
    {
     "name": "stdout",
     "output_type": "stream",
     "text": [
      "You are eligible for a scholarship\n"
     ]
    }
   ],
   "source": [
    "income = float(input(\"What is your annual income \"))\n",
    "grade = input(\"What is your grade \")\n",
    "\n",
    "if grade == \"A\" and income < 30000:\n",
    "    print(\"You are eligible for a scholarship\")\n",
    "\n",
    "else:\n",
    "    print(\"You are not eligible for a scholarship\")"
   ]
  }
 ],
 "metadata": {
  "kernelspec": {
   "display_name": "Python 3 (ipykernel)",
   "language": "python",
   "name": "python3"
  },
  "language_info": {
   "codemirror_mode": {
    "name": "ipython",
    "version": 3
   },
   "file_extension": ".py",
   "mimetype": "text/x-python",
   "name": "python",
   "nbconvert_exporter": "python",
   "pygments_lexer": "ipython3",
   "version": "3.12.7"
  }
 },
 "nbformat": 4,
 "nbformat_minor": 4
}

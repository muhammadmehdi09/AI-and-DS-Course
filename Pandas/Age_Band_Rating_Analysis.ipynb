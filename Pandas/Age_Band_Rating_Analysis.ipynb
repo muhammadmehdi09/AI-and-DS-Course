{
 "cells": [
  {
   "cell_type": "code",
   "execution_count": 1,
   "id": "205fb3f8-fbb5-48ad-ac2f-6e8efd566b20",
   "metadata": {},
   "outputs": [],
   "source": [
    "import pandas as pd\n",
    "import seaborn as sns\n",
    "import matplotlib as plt"
   ]
  },
  {
   "cell_type": "code",
   "execution_count": null,
   "id": "05ed2b45",
   "metadata": {},
   "outputs": [],
   "source": [
    "data = pd.read_csv(\"../Excel/airlines.csv\", encoding = \"latin1\")\n",
    "data.head()"
   ]
  },
  {
   "cell_type": "code",
   "execution_count": null,
   "id": "cd38e307",
   "metadata": {},
   "outputs": [],
   "source": [
    "print(\"\\033[1m\\033[95mINFLIGHT WIFI SERVICE\\033[0m\")sns.barplot(    data[data[\"Inflight wifi service\"] < 4][\"Age Band\"].value_counts(),    palette=[\"Red\", \"Blue\", \"Orange\", \"Pink\", \"Purple\", \"Brown\", \"Yellow\", \"Green\", \"Magenta\", \"Gold\", \"Silver\", \"Cyan\", \"Seagreen\", \"Teal\"],    saturation=1.0).set_ylim(2000, 10500)"
   ]
  },
  {
   "cell_type": "code",
   "execution_count": null,
   "id": "852b4215",
   "metadata": {},
   "outputs": [],
   "source": [
    "print(\"\\033[1m\\033[95mDEPARTURE/ARRIVAL TIME CONVENIENT\\033[0m\")sns.barplot(    data[data[\"Departure/Arrival time convenient\"] < 4][\"Age Band\"].value_counts(),    palette=[\"Red\", \"Blue\", \"Orange\", \"Pink\", \"Purple\", \"Brown\", \"Yellow\", \"Green\", \"Magenta\", \"Gold\", \"Silver\", \"Cyan\", \"Seagreen\", \"Teal\"],    saturation=1.0).set_ylim(2000, 10500)"
   ]
  },
  {
   "cell_type": "code",
   "execution_count": null,
   "id": "e2d9c939",
   "metadata": {},
   "outputs": [],
   "source": [
    "print(\"\\033[1m\\033[95mEASE OF ONLINE BOOKING\\033[0m\")sns.barplot(    data[data[\"Ease of Online booking\"] < 4][\"Age Band\"].value_counts(),    palette=[\"Red\", \"Blue\", \"Orange\", \"Pink\", \"Purple\", \"Brown\", \"Yellow\", \"Green\", \"Magenta\", \"Gold\", \"Silver\", \"Cyan\", \"Seagreen\", \"Teal\"],    saturation=1.0).set_ylim(2000, 10500)"
   ]
  },
  {
   "cell_type": "code",
   "execution_count": null,
   "id": "70d7c52e",
   "metadata": {},
   "outputs": [],
   "source": [
    "print(\"\\033[1m\\033[95mGATE LOCATION\\033[0m\")sns.barplot(    data[data[\"Gate location\"] < 4][\"Age Band\"].value_counts(),    palette=[\"Red\", \"Blue\", \"Orange\", \"Pink\", \"Purple\", \"Brown\", \"Yellow\", \"Green\", \"Magenta\", \"Gold\", \"Silver\", \"Cyan\", \"Seagreen\", \"Teal\"],    saturation=1.0).set_ylim(2000, 10500)"
   ]
  },
  {
   "cell_type": "code",
   "execution_count": null,
   "id": "908683d5",
   "metadata": {},
   "outputs": [],
   "source": [
    "print(\"\\033[1m\\033[95mFOOD AND DRINK\\033[0m\")sns.barplot(    data[data[\"Food and drink\"] < 4][\"Age Band\"].value_counts(),    palette=[\"Red\", \"Blue\", \"Orange\", \"Pink\", \"Purple\", \"Brown\", \"Yellow\", \"Green\", \"Magenta\", \"Gold\", \"Silver\", \"Cyan\", \"Seagreen\", \"Teal\"],    saturation=1.0).set_ylim(2000, 10500)"
   ]
  },
  {
   "cell_type": "code",
   "execution_count": null,
   "id": "a6323103",
   "metadata": {},
   "outputs": [],
   "source": [
    "print(\"\\033[1m\\033[95mONLINE BOARDING\\033[0m\")sns.barplot(    data[data[\"Online boarding\"] < 4][\"Age Band\"].value_counts(),    palette=[\"Red\", \"Blue\", \"Orange\", \"Pink\", \"Purple\", \"Brown\", \"Yellow\", \"Green\", \"Magenta\", \"Gold\", \"Silver\", \"Cyan\", \"Seagreen\", \"Teal\"],    saturation=1.0).set_ylim(2000, 10500)"
   ]
  },
  {
   "cell_type": "code",
   "execution_count": null,
   "id": "cd2849ed",
   "metadata": {},
   "outputs": [],
   "source": [
    "print(\"\\033[1m\\033[95mSEAT COMFORT\\033[0m\")sns.barplot(    data[data[\"Seat comfort\"] < 4][\"Age Band\"].value_counts(),    palette=[\"Red\", \"Blue\", \"Orange\", \"Pink\", \"Purple\", \"Brown\", \"Yellow\", \"Green\", \"Magenta\", \"Gold\", \"Silver\", \"Cyan\", \"Seagreen\", \"Teal\"],    saturation=1.0).set_ylim(2000, 10500)"
   ]
  },
  {
   "cell_type": "code",
   "execution_count": null,
   "id": "c7890b3b",
   "metadata": {},
   "outputs": [],
   "source": [
    "print(\"\\033[1m\\033[95mINFLIGHT ENTERTAINMENT\\033[0m\")sns.barplot(    data[data[\"Inflight entertainment\"] < 4][\"Age Band\"].value_counts(),    palette=[\"Red\", \"Blue\", \"Orange\", \"Pink\", \"Purple\", \"Brown\", \"Yellow\", \"Green\", \"Magenta\", \"Gold\", \"Silver\", \"Cyan\", \"Seagreen\", \"Teal\"],    saturation=1.0).set_ylim(2000, 10500)"
   ]
  },
  {
   "cell_type": "code",
   "execution_count": null,
   "id": "644694db",
   "metadata": {},
   "outputs": [],
   "source": [
    "print(\"\\033[1m\\033[95mON-BOARD SERVICE\\033[0m\")sns.barplot(    data[data[\"On-board service\"] < 4][\"Age Band\"].value_counts(),    palette=[\"Red\", \"Blue\", \"Orange\", \"Pink\", \"Purple\", \"Brown\", \"Yellow\", \"Green\", \"Magenta\", \"Gold\", \"Silver\", \"Cyan\", \"Seagreen\", \"Teal\"],    saturation=1.0).set_ylim(2000, 10500)"
   ]
  },
  {
   "cell_type": "code",
   "execution_count": null,
   "id": "6e47d5fa",
   "metadata": {},
   "outputs": [],
   "source": [
    "print(\"\\033[1m\\033[95mLEG ROOM SERVICE\\033[0m\")sns.barplot(    data[data[\"Leg room service\"] < 4][\"Age Band\"].value_counts(),    palette=[\"Red\", \"Blue\", \"Orange\", \"Pink\", \"Purple\", \"Brown\", \"Yellow\", \"Green\", \"Magenta\", \"Gold\", \"Silver\", \"Cyan\", \"Seagreen\", \"Teal\"],    saturation=1.0).set_ylim(2000, 10500)"
   ]
  },
  {
   "cell_type": "code",
   "execution_count": null,
   "id": "7429c6c5",
   "metadata": {},
   "outputs": [],
   "source": [
    "print(\"\\033[1m\\033[95mBAGGAGE HANDLING\\033[0m\")sns.barplot(    data[data[\"Baggage handling\"] < 4][\"Age Band\"].value_counts(),    palette=[\"Red\", \"Blue\", \"Orange\", \"Pink\", \"Purple\", \"Brown\", \"Yellow\", \"Green\", \"Magenta\", \"Gold\", \"Silver\", \"Cyan\", \"Seagreen\", \"Teal\"],    saturation=1.0).set_ylim(2000, 10500)"
   ]
  },
  {
   "cell_type": "code",
   "execution_count": null,
   "id": "ea5e0575",
   "metadata": {},
   "outputs": [],
   "source": [
    "print(\"\\033[1m\\033[95mCHECKIN SERVICE\\033[0m\")sns.barplot(    data[data[\"Checkin service\"] < 4][\"Age Band\"].value_counts(),    palette=[\"Red\", \"Blue\", \"Orange\", \"Pink\", \"Purple\", \"Brown\", \"Yellow\", \"Green\", \"Magenta\", \"Gold\", \"Silver\", \"Cyan\", \"Seagreen\", \"Teal\"],    saturation=1.0).set_ylim(2000, 10500)"
   ]
  },
  {
   "cell_type": "code",
   "execution_count": null,
   "id": "7ecf7c84",
   "metadata": {},
   "outputs": [],
   "source": [
    "print(\"\\033[1m\\033[95mINFLIGHT SERVICE\\033[0m\")sns.barplot(    data[data[\"Inflight service\"] < 4][\"Age Band\"].value_counts(),    palette=[\"Red\", \"Blue\", \"Orange\", \"Pink\", \"Purple\", \"Brown\", \"Yellow\", \"Green\", \"Magenta\", \"Gold\", \"Silver\", \"Cyan\", \"Seagreen\", \"Teal\"],    saturation=1.0).set_ylim(2000, 10500)"
   ]
  },
  {
   "cell_type": "code",
   "execution_count": null,
   "id": "3d58571b",
   "metadata": {},
   "outputs": [],
   "source": [
    "print(\"\\033[1m\\033[95mCLEANLINESS\\033[0m\")sns.barplot(    data[data[\"Cleanliness\"] < 4][\"Age Band\"].value_counts(),    palette=[\"Red\", \"Blue\", \"Orange\", \"Pink\", \"Purple\", \"Brown\", \"Yellow\", \"Green\", \"Magenta\", \"Gold\", \"Silver\", \"Cyan\", \"Seagreen\", \"Teal\"],    saturation=1.0).set_ylim(2000, 10500)"
   ]
  }
 ],
 "metadata": {
  "kernelspec": {
   "display_name": "Python 3 (ipykernel)",
   "language": "python",
   "name": "python3"
  },
  "language_info": {
   "codemirror_mode": {
    "name": "ipython",
    "version": 3
   },
   "file_extension": ".py",
   "mimetype": "text/x-python",
   "name": "python",
   "nbconvert_exporter": "python",
   "pygments_lexer": "ipython3",
   "version": "3.12.9"
  }
 },
 "nbformat": 4,
 "nbformat_minor": 5
}
